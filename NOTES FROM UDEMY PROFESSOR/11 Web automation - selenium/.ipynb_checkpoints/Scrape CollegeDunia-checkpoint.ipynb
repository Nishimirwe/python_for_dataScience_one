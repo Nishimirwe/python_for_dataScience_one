{
 "cells": [
  {
   "cell_type": "code",
   "execution_count": 53,
   "metadata": {},
   "outputs": [],
   "source": [
    "from selenium import webdriver\n",
    "import pandas as pd\n",
    "import time"
   ]
  },
  {
   "cell_type": "code",
   "execution_count": 2,
   "metadata": {},
   "outputs": [],
   "source": [
    "driver = webdriver.Chrome(\"./chromedriver\")"
   ]
  },
  {
   "cell_type": "code",
   "execution_count": 3,
   "metadata": {},
   "outputs": [],
   "source": [
    "driver.get(\"https://collegedunia.com/engineering-colleges\")"
   ]
  },
  {
   "cell_type": "code",
   "execution_count": 7,
   "metadata": {},
   "outputs": [],
   "source": [
    "all_colleges = list(driver.find_elements_by_class_name('listing-block'))"
   ]
  },
  {
   "cell_type": "code",
   "execution_count": 8,
   "metadata": {},
   "outputs": [
    {
     "data": {
      "text/plain": [
       "32"
      ]
     },
     "execution_count": 8,
     "metadata": {},
     "output_type": "execute_result"
    }
   ],
   "source": [
    "len(all_colleges)"
   ]
  },
  {
   "cell_type": "code",
   "execution_count": null,
   "metadata": {},
   "outputs": [],
   "source": [
    "img = all_colleges[0].find_element_by_tag_name('img').get_attribute('src')\n",
    "\n",
    "name = all_colleges[0].find_element_by_class_name('clg-name-address').text\n",
    "\n",
    "location = all_colleges[0].find_element_by_class_name('location-badge').find_element_by_tag_name('span').text\n",
    "\n",
    "rating = all_colleges[0].find_element_by_tag_name('ul').find_elements_by_tag_name('li')[-1].text.split('\\n')[0]\n"
   ]
  },
  {
   "cell_type": "code",
   "execution_count": null,
   "metadata": {},
   "outputs": [],
   "source": []
  },
  {
   "cell_type": "code",
   "execution_count": 32,
   "metadata": {},
   "outputs": [
    {
     "name": "stdout",
     "output_type": "stream",
     "text": [
      "https://images.static-collegedunia.com/public/college_data/images/appImage/1509430807cover.jpg?tr=w-305,h-145,c-force == INDIAN INSTITUTE OF TECHNOLOGY MADRAS - [IITM], CHENNAI == CHENNAI, TAMIL NADU == 8.7 / 10\n",
      "\n",
      "https://images.static-collegedunia.com/public/college_data/images/appImage/25455_IITDelhi_New.jpg?tr=w-305,h-145,c-force == INDIAN INSTITUTE OF TECHNOLOGY - [IIT], NEW DELHI == NEW DELHI, DELHI NCR == 8.8 / 10\n",
      "\n",
      "https://images.static-collegedunia.com/public/college_data/images/appImage/1593580888universitypic.jpg?tr=w-305,h-145,c-force == CHANDIGARH UNIVERSITY - [CU], CHANDIGARH == CHANDIGARH, CHANDIGARH == 8.6 / 10\n",
      "\n",
      "https://images.static-collegedunia.com/public/college_data/images/appImage/25703_IIT_New.jpg?tr=w-305,h-145,c-force == IIT BOMBAY - INDIAN INSTITUTE OF TECHNOLOGY, MUMBAI == MUMBAI, MAHARASHTRA == 8.8 / 10\n",
      "\n",
      "https://images.static-collegedunia.com/public/college_data/images/appImage/25617_MANIPAL.jpg?tr=w-305,h-145,c-force == MANIPAL ACADEMY OF HIGHER EDUCATION - [MAHE], MANIPAL == MANIPAL, KARNATAKA == 8.4 / 10\n",
      "\n",
      "https://images.static-collegedunia.com/public/college_data/images/appImage/1488973535e1.jpg?tr=w-305,h-145,c-force == INDIAN INSTITUTE OF TECHNOLOGY - [IIT], KHARAGPUR == KHARAGPUR, WEST BENGAL == 8.5 / 10\n",
      "\n",
      "https://images.static-collegedunia.com/public/college_data/images/appImage/25948_IITK_New.jpg?tr=w-305,h-145,c-force == INDIAN INSTITUTE OF TECHNOLOGY - [IIT], KANPUR == KANPUR, UTTAR PRADESH == 8.9 / 10\n",
      "\n",
      "https://images.static-collegedunia.com/public/college_data/images/appImage/25992_IITR_New.jpg?tr=w-305,h-145,c-force == INDIAN INSTITUTE OF TECHNOLOGY - [IIT], ROORKEE == ROORKEE, UTTARAKHAND == 8.4 / 10\n",
      "\n",
      "https://images.static-collegedunia.com/public/college_data/images/appImage/25800_BITS_App.jpg?tr=w-305,h-145,c-force == BIRLA INSTITUTE OF TECHNOLOGY AND SCIENCE - [BITS], PILANI == PILANI, RAJASTHAN == 8.8 / 10\n",
      "\n",
      "https://images.static-collegedunia.com/public/college_data/images/placeholder_300X223.png?tr=w-305,h-145,c-force == INDIAN INSTITUTE OF TECHNOLOGY - [IIT], GUWAHATI == GUWAHATI, ASSAM == 8.5 / 10\n",
      "\n",
      "https://images.static-collegedunia.com/public/college_data/images/placeholder_300X223.png?tr=w-305,h-145,c-force == INDIAN INSTITUTE OF TECHNOLOGY - [IIT], HYDERABAD == HYDERABAD, TELANGANA == 8.4 / 10\n",
      "\n",
      "https://images.static-collegedunia.com/public/college_data/images/placeholder_300X223.png?tr=w-305,h-145,c-force == COLLEGE OF ENGINEERING, ANNA UNIVERSITY - [CEG], CHENNAI == CHENNAI, TAMIL NADU == 8.3 / 10\n",
      "\n",
      "https://images.static-collegedunia.com/public/college_data/images/placeholder_300X223.png?tr=w-305,h-145,c-force == NIT TRICHY, TIRUCHIRAPPALLI == TIRUCHIRAPPALLI, TAMIL NADU == 8.4 / 10\n",
      "\n",
      "https://images.static-collegedunia.com/public/college_data/images/placeholder_300X223.png?tr=w-305,h-145,c-force == INDIAN INSTITUTE OF TECHNOLOGY - [IIT BHU], VARANASI == VARANASI, UTTAR PRADESH == 8.4 / 10\n",
      "\n",
      "https://images.static-collegedunia.com/public/college_data/images/placeholder_300X223.png?tr=w-305,h-145,c-force == INSTITUTE OF CHEMICAL TECHNOLOGY - [ICT], MUMBAI == MUMBAI, MAHARASHTRA == 8.6 / 10\n",
      "\n",
      "https://images.static-collegedunia.com/public/college_data/images/placeholder_300X223.png?tr=w-305,h-145,c-force == INDIAN INSTITUTE OF TECHNOLOGY - [IIT], INDORE == INDORE, MADHYA PRADESH == 8.1 / 10\n",
      "\n",
      "https://images.static-collegedunia.com/public/college_data/images/placeholder_300X223.png?tr=w-305,h-145,c-force == JADAVPUR UNIVERSITY - [JU], KOLKATA == KOLKATA, WEST BENGAL == 8.4 / 10\n",
      "\n",
      "https://images.static-collegedunia.com/public/college_data/images/placeholder_300X223.png?tr=w-305,h-145,c-force == INDIAN INSTITUTE OF TECHNOLOGY - [IIT], DHANBAD == DHANBAD, JHARKHAND == 8 / 10\n",
      "\n",
      "https://images.static-collegedunia.com/public/college_data/images/placeholder_300X223.png?tr=w-305,h-145,c-force == NATIONAL INSTITUTE OF TECHNOLOGY - [NIT], ROURKELA == ROURKELA, ORISSA == 8.3 / 10\n",
      "\n",
      "https://images.static-collegedunia.com/public/college_data/images/placeholder_300X223.png?tr=w-305,h-145,c-force == INDIAN INSTITUTE OF TECHNOLOGY - [IIT], BHUBANESWAR == BHUBANESWAR, ORISSA == 7.5 / 10\n",
      "\n",
      "https://images.static-collegedunia.com/public/college_data/images/placeholder_300X223.png?tr=w-305,h-145,c-force == VELLORE INSTITUTE OF TECHNOLOGY - [VIT UNIVERSITY], VELLORE == VELLORE, TAMIL NADU == 8.3 / 10\n",
      "\n",
      "https://images.static-collegedunia.com/public/college_data/images/placeholder_300X223.png?tr=w-305,h-145,c-force == INDIAN INSTITUTE OF ENGINEERING SCIENCE AND TECHNOLOGY - [IIEST] SHIBPUR, HOWRAH == HOWRAH, WEST BENGAL == 7.9 / 10\n",
      "\n",
      "https://images.static-collegedunia.com/public/college_data/images/placeholder_300X223.png?tr=w-305,h-145,c-force == INDIAN INSTITUTE OF TECHNOLOGY - [IIT], MANDI == MANDI, HIMACHAL PRADESH == 7.8 / 10\n",
      "\n",
      "https://images.static-collegedunia.com/public/college_data/images/placeholder_300X223.png?tr=w-305,h-145,c-force == NATIONAL INSTITUTE OF TECHNOLOGY - [NITK], SURATHKAL == SURATHKAL, KARNATAKA == 8.4 / 10\n",
      "\n",
      "https://images.static-collegedunia.com/public/college_data/images/placeholder_300X223.png?tr=w-305,h-145,c-force == INDIAN INSTITUTE OF TECHNOLOGY - [IIT], PATNA == PATNA, BIHAR == 8 / 10\n",
      "\n",
      "https://images.static-collegedunia.com/public/college_data/images/placeholder_300X223.png?tr=w-305,h-145,c-force == THAPAR INSTITUTE OF ENGINEERING AND TECHNOLOGY - [THAPAR], PATIALA == PATIALA, PUNJAB == 8.2 / 10\n",
      "\n",
      "https://images.static-collegedunia.com/public/college_data/images/placeholder_300X223.png?tr=w-305,h-145,c-force == INDIAN INSTITUTE OF TECHNOLOGY - [IIT], GANDHI NAGAR == GANDHI NAGAR, GUJARAT == 8.5 / 10\n",
      "\n",
      "https://images.static-collegedunia.com/public/college_data/images/placeholder_300X223.png?tr=w-305,h-145,c-force == NATIONAL INSTITUTE OF TECHNOLOGY - [NIT], WARANGAL == WARANGAL, TELANGANA == 8.4 / 10\n",
      "\n",
      "https://images.static-collegedunia.com/public/college_data/images/placeholder_300X223.png?tr=w-305,h-145,c-force == JAMIA MILLIA ISLAMIA UNIVERSITY-[JMI], NEW DELHI == NEW DELHI, DELHI NCR == 7.9 / 10\n",
      "\n",
      "https://images.static-collegedunia.com/public/college_data/images/placeholder_300X223.png?tr=w-305,h-145,c-force == NATIONAL INSTITUTE OF TECHNOLOGY - [NITC], CALICUT == CALICUT, KERALA == 8 / 10\n",
      "\n",
      "https://images.static-collegedunia.com/public/college_data/images/placeholder_300X223.png?tr=w-305,h-145,c-force == INDIAN INSTITUTE OF TECHNOLOGY - [IIT], ROPAR == ROPAR, PUNJAB == 8.5 / 10\n",
      "\n",
      "https://images.static-collegedunia.com/public/college_data/images/placeholder_300X223.png?tr=w-305,h-145,c-force == INDIAN INSTITUTE OF SPACE SCIENCE AND TECHNOLOGY - [IIST], THIRUVANANTHAPURAM == THIRUVANANTHAPURAM, KERALA == 8.1 / 10\n",
      "\n"
     ]
    }
   ],
   "source": [
    "for college in all_colleges:\n",
    "    img = college.find_element_by_tag_name('img').get_attribute('src')\n",
    "    name = college.find_element_by_class_name('clg-name-address').text\n",
    "    location = college.find_element_by_class_name('location-badge').find_element_by_tag_name('span').text\n",
    "    rating = college.find_element_by_tag_name('ul').find_elements_by_tag_name('li')[-1].text.split('\\n')[0]\n",
    "\n",
    "    print(img, \"==\", name, \"==\", location, \"==\", rating)\n",
    "    print()"
   ]
  },
  {
   "cell_type": "code",
   "execution_count": 33,
   "metadata": {},
   "outputs": [
    {
     "data": {
      "text/plain": [
       "32"
      ]
     },
     "execution_count": 33,
     "metadata": {},
     "output_type": "execute_result"
    }
   ],
   "source": [
    "len(all_colleges)"
   ]
  },
  {
   "cell_type": "markdown",
   "metadata": {},
   "source": [
    "### Needs to scroll till bottom"
   ]
  },
  {
   "cell_type": "code",
   "execution_count": 50,
   "metadata": {},
   "outputs": [],
   "source": [
    "for i in range(20):\n",
    "    # scroll till bottom\n",
    "    driver.execute_script(\"window.scrollTo(0, document.body.scrollHeight);\")\n",
    "\n",
    "    # scroll till bottom - 1000 \n",
    "    driver.execute_script(\"window.scrollTo(0, document.body.scrollHeight-1000);\")\n",
    "    \n",
    "    time.sleep(0.5)"
   ]
  },
  {
   "cell_type": "code",
   "execution_count": null,
   "metadata": {},
   "outputs": [],
   "source": []
  },
  {
   "cell_type": "code",
   "execution_count": 51,
   "metadata": {},
   "outputs": [],
   "source": [
    "all_colleges = list(driver.find_elements_by_class_name('listing-block'))"
   ]
  },
  {
   "cell_type": "code",
   "execution_count": 52,
   "metadata": {},
   "outputs": [
    {
     "data": {
      "text/plain": [
       "461"
      ]
     },
     "execution_count": 52,
     "metadata": {},
     "output_type": "execute_result"
    }
   ],
   "source": [
    "len(all_colleges)"
   ]
  },
  {
   "cell_type": "code",
   "execution_count": 54,
   "metadata": {},
   "outputs": [],
   "source": [
    "df = pd.DataFrame({}, columns= [ 'Img', 'Name', 'Location', 'Rating'])"
   ]
  },
  {
   "cell_type": "code",
   "execution_count": 55,
   "metadata": {},
   "outputs": [
    {
     "data": {
      "text/html": [
       "<div>\n",
       "<style scoped>\n",
       "    .dataframe tbody tr th:only-of-type {\n",
       "        vertical-align: middle;\n",
       "    }\n",
       "\n",
       "    .dataframe tbody tr th {\n",
       "        vertical-align: top;\n",
       "    }\n",
       "\n",
       "    .dataframe thead th {\n",
       "        text-align: right;\n",
       "    }\n",
       "</style>\n",
       "<table border=\"1\" class=\"dataframe\">\n",
       "  <thead>\n",
       "    <tr style=\"text-align: right;\">\n",
       "      <th></th>\n",
       "      <th>Img</th>\n",
       "      <th>Name</th>\n",
       "      <th>Location</th>\n",
       "      <th>Rating</th>\n",
       "    </tr>\n",
       "  </thead>\n",
       "  <tbody>\n",
       "  </tbody>\n",
       "</table>\n",
       "</div>"
      ],
      "text/plain": [
       "Empty DataFrame\n",
       "Columns: [Img, Name, Location, Rating]\n",
       "Index: []"
      ]
     },
     "execution_count": 55,
     "metadata": {},
     "output_type": "execute_result"
    }
   ],
   "source": [
    "df"
   ]
  },
  {
   "cell_type": "code",
   "execution_count": 56,
   "metadata": {},
   "outputs": [],
   "source": [
    "for college in all_colleges:\n",
    "    img = college.find_element_by_tag_name('img').get_attribute('src')\n",
    "    name = college.find_element_by_class_name('clg-name-address').text\n",
    "    location = college.find_element_by_class_name('location-badge').find_element_by_tag_name('span').text\n",
    "    rating = college.find_element_by_tag_name('ul').find_elements_by_tag_name('li')[-1].text.split('\\n')[0]\n",
    "\n",
    "    df = df.append({'Img':img, 'Name':name, 'Location':location, 'Rating':rating}, ignore_index=True)"
   ]
  },
  {
   "cell_type": "code",
   "execution_count": 57,
   "metadata": {},
   "outputs": [
    {
     "data": {
      "text/plain": [
       "(461, 4)"
      ]
     },
     "execution_count": 57,
     "metadata": {},
     "output_type": "execute_result"
    }
   ],
   "source": [
    "df.shape"
   ]
  },
  {
   "cell_type": "code",
   "execution_count": 59,
   "metadata": {},
   "outputs": [
    {
     "data": {
      "text/html": [
       "<div>\n",
       "<style scoped>\n",
       "    .dataframe tbody tr th:only-of-type {\n",
       "        vertical-align: middle;\n",
       "    }\n",
       "\n",
       "    .dataframe tbody tr th {\n",
       "        vertical-align: top;\n",
       "    }\n",
       "\n",
       "    .dataframe thead th {\n",
       "        text-align: right;\n",
       "    }\n",
       "</style>\n",
       "<table border=\"1\" class=\"dataframe\">\n",
       "  <thead>\n",
       "    <tr style=\"text-align: right;\">\n",
       "      <th></th>\n",
       "      <th>Img</th>\n",
       "      <th>Name</th>\n",
       "      <th>Location</th>\n",
       "      <th>Rating</th>\n",
       "    </tr>\n",
       "  </thead>\n",
       "  <tbody>\n",
       "    <tr>\n",
       "      <th>0</th>\n",
       "      <td>https://images.static-collegedunia.com/public/...</td>\n",
       "      <td>INDIAN INSTITUTE OF TECHNOLOGY MADRAS - [IITM]...</td>\n",
       "      <td>CHENNAI, TAMIL NADU</td>\n",
       "      <td>8.7 / 10</td>\n",
       "    </tr>\n",
       "    <tr>\n",
       "      <th>1</th>\n",
       "      <td>https://images.static-collegedunia.com/public/...</td>\n",
       "      <td>INDIAN INSTITUTE OF TECHNOLOGY - [IIT], NEW DELHI</td>\n",
       "      <td>NEW DELHI, DELHI NCR</td>\n",
       "      <td>8.8 / 10</td>\n",
       "    </tr>\n",
       "    <tr>\n",
       "      <th>2</th>\n",
       "      <td>https://images.static-collegedunia.com/public/...</td>\n",
       "      <td>CHANDIGARH UNIVERSITY - [CU], CHANDIGARH</td>\n",
       "      <td>CHANDIGARH, CHANDIGARH</td>\n",
       "      <td>8.6 / 10</td>\n",
       "    </tr>\n",
       "    <tr>\n",
       "      <th>3</th>\n",
       "      <td>https://images.static-collegedunia.com/public/...</td>\n",
       "      <td>IIT BOMBAY - INDIAN INSTITUTE OF TECHNOLOGY, M...</td>\n",
       "      <td>MUMBAI, MAHARASHTRA</td>\n",
       "      <td>8.8 / 10</td>\n",
       "    </tr>\n",
       "    <tr>\n",
       "      <th>4</th>\n",
       "      <td>https://images.static-collegedunia.com/public/...</td>\n",
       "      <td>MANIPAL ACADEMY OF HIGHER EDUCATION - [MAHE], ...</td>\n",
       "      <td>MANIPAL, KARNATAKA</td>\n",
       "      <td>8.4 / 10</td>\n",
       "    </tr>\n",
       "  </tbody>\n",
       "</table>\n",
       "</div>"
      ],
      "text/plain": [
       "                                                 Img  \\\n",
       "0  https://images.static-collegedunia.com/public/...   \n",
       "1  https://images.static-collegedunia.com/public/...   \n",
       "2  https://images.static-collegedunia.com/public/...   \n",
       "3  https://images.static-collegedunia.com/public/...   \n",
       "4  https://images.static-collegedunia.com/public/...   \n",
       "\n",
       "                                                Name                Location  \\\n",
       "0  INDIAN INSTITUTE OF TECHNOLOGY MADRAS - [IITM]...     CHENNAI, TAMIL NADU   \n",
       "1  INDIAN INSTITUTE OF TECHNOLOGY - [IIT], NEW DELHI    NEW DELHI, DELHI NCR   \n",
       "2           CHANDIGARH UNIVERSITY - [CU], CHANDIGARH  CHANDIGARH, CHANDIGARH   \n",
       "3  IIT BOMBAY - INDIAN INSTITUTE OF TECHNOLOGY, M...     MUMBAI, MAHARASHTRA   \n",
       "4  MANIPAL ACADEMY OF HIGHER EDUCATION - [MAHE], ...      MANIPAL, KARNATAKA   \n",
       "\n",
       "     Rating  \n",
       "0  8.7 / 10  \n",
       "1  8.8 / 10  \n",
       "2  8.6 / 10  \n",
       "3  8.8 / 10  \n",
       "4  8.4 / 10  "
      ]
     },
     "execution_count": 59,
     "metadata": {},
     "output_type": "execute_result"
    }
   ],
   "source": [
    "df.head()"
   ]
  },
  {
   "cell_type": "code",
   "execution_count": 61,
   "metadata": {},
   "outputs": [],
   "source": [
    "df.to_csv(\"colleges.csv\", index=False)"
   ]
  },
  {
   "cell_type": "code",
   "execution_count": 62,
   "metadata": {},
   "outputs": [],
   "source": [
    "driver.quit()"
   ]
  },
  {
   "cell_type": "code",
   "execution_count": null,
   "metadata": {},
   "outputs": [],
   "source": []
  }
 ],
 "metadata": {
  "kernelspec": {
   "display_name": "Python 3",
   "language": "python",
   "name": "python3"
  },
  "language_info": {
   "codemirror_mode": {
    "name": "ipython",
    "version": 3
   },
   "file_extension": ".py",
   "mimetype": "text/x-python",
   "name": "python",
   "nbconvert_exporter": "python",
   "pygments_lexer": "ipython3",
   "version": "3.8.5"
  }
 },
 "nbformat": 4,
 "nbformat_minor": 4
}
