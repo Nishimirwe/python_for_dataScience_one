{
 "cells": [
  {
   "cell_type": "code",
   "execution_count": 79,
   "metadata": {},
   "outputs": [],
   "source": [
    "import requests as rq\n",
    "import json\n",
    "import bs4"
   ]
  },
  {
   "cell_type": "code",
   "execution_count": 80,
   "metadata": {},
   "outputs": [],
   "source": [
    "url=\"http://igihe.com/\""
   ]
  },
  {
   "cell_type": "code",
   "execution_count": 81,
   "metadata": {},
   "outputs": [],
   "source": [
    "url_res=rq.get(url)"
   ]
  },
  {
   "cell_type": "code",
   "execution_count": 82,
   "metadata": {},
   "outputs": [
    {
     "data": {
      "text/plain": [
       "200"
      ]
     },
     "execution_count": 82,
     "metadata": {},
     "output_type": "execute_result"
    }
   ],
   "source": [
    "url_res.status_code"
   ]
  },
  {
   "cell_type": "code",
   "execution_count": 83,
   "metadata": {},
   "outputs": [],
   "source": [
    "content=url_res.content"
   ]
  },
  {
   "cell_type": "code",
   "execution_count": 84,
   "metadata": {},
   "outputs": [],
   "source": [
    "soup_data=bs4.BeautifulSoup(content,'html.parser')"
   ]
  },
  {
   "cell_type": "code",
   "execution_count": 85,
   "metadata": {},
   "outputs": [],
   "source": [
    "soup_data.attrs='src'"
   ]
  },
  {
   "cell_type": "code",
   "execution_count": 86,
   "metadata": {},
   "outputs": [],
   "source": [
    "div=soup_data.find_all('div',attrs={'class':'advert-articles-all'})"
   ]
  },
  {
   "cell_type": "code",
   "execution_count": 94,
   "metadata": {},
   "outputs": [
    {
     "data": {
      "text/plain": [
       "1"
      ]
     },
     "execution_count": 94,
     "metadata": {},
     "output_type": "execute_result"
    }
   ],
   "source": [
    "len(div)"
   ]
  },
  {
   "cell_type": "code",
   "execution_count": 95,
   "metadata": {},
   "outputs": [],
   "source": [
    " links=div[0].find_all('a')"
   ]
  },
  {
   "cell_type": "code",
   "execution_count": 106,
   "metadata": {},
   "outputs": [
    {
     "data": {
      "text/plain": [
       "[<a href=\"serivisi/kwamamaza/cyamunara/article/itangazo-rya-cyamunara-y-inzu-iri-mu-kibanza-gifite-upi-1-03-08-04-852\">Itangazo rya cyamunara y’inzu iri mu kibanza gifite UPI 1/03/08/04/852 giherereye Kicukiro/Masaka/Gitaraga/Gitaraga</a>,\n",
       " <a href=\"serivisi/kwamamaza/cyamunara/article/itangazo-rya-cyamunara-y-inzu-yo-guturamo-n-amazu-ya-annex-biri-mu-kibanza\">Itangazo rya cyamunara y’inzu yo guturamo n’amazu ya annex biri mu kibanza gifite UPI 5/01/10/05/871 giherereye Rwamagana/Muyumbu/Nyarukombe/Rubona</a>,\n",
       " <a href=\"serivisi/kwamamaza/cyamunara/article/itangazo-rya-cyamunara-y-inzu-iri-mu-kibanza-gifite-upi-1-03-05-04-1553-154838\">Itangazo rya cyamunara y’inzu iri mu kibanza gifite UPI 1/03/05/04/1553 giherereye Kicukiro/Kanombe/Rubirizi/Itunda</a>,\n",
       " <a href=\"serivisi/kwamamaza/cyamunara/article/itangazo-rya-cyamunara-y-inzu-iri-mu-kibanza-gifite-upi-1-01-09-03-598-154836\">Itangazo rya cyamunara y’inzu iri mu kibanza gifite UPI 1/01/09/03/598 giherereye Nyarugenge/Nyarugenge/Kiyovu</a>,\n",
       " <a href=\"serivisi/kwamamaza/cyamunara/article/itangazo-rya-cyamunara-y-inzu-ziri-mu-kibanza-gifite-upi-1-02-13-02-4164\">Itangazo rya cyamunara y’inzu ziri mu kibanza gifite UPI 1/02/13/02/4164 giherereye Gasabo/Kimironko/Kibagabaga</a>,\n",
       " <a href=\"serivisi/kwamamaza/cyamunara/article/itangazo-rya-cyamunara-y-inzu-iri-mu-kibanza-gifite-upi-1-02-07-03-1110\">Itangazo rya cyamunara y’inzu iri mu kibanza gifite UPI 1/02/07/03/1110 giherereye Gasabo/Kacyiru/Kibaza/Ineza</a>,\n",
       " <a href=\"serivisi/kwamamaza/cyamunara/article/itangazo-rya-cyamuanara-y-umutungo-wimukanwa-wa-pasta-rwanda-ltd-ugizwe-n\">Itangazo rya cyamuanara y’umutungo wimukanwa wa PASTA RWANDA LTD ugizwe n’imashini n’ibikoresho bitandukanye zikoreshwa mu gukora amakaroni, biherereye Muhanga/Nyamabuye/Gifumba/Gifumba</a>,\n",
       " <a href=\"serivisi/kwamamaza/cyamunara/article/itangazo-rya-cyamunara-ya-the-mirror-hotel-iri-mu-kibanza-gifite-upi-1-02-13-03\">Itangazo rya cyamunara ya THE MIRROR HOTEL iri mu kibanza gifite UPI 1/02/13/03/140 giherereye Gasabo/Remera/Gasharu I/Gisimenti</a>,\n",
       " <a href=\"serivisi/kwamamaza/cyamunara/article/itangazo-rya-cyamunara-y-ubutaka-buri-mu-kibanza-gifite-upi-5-05-01-01-7096\">Itangazo rya cyamunara y’ubutaka buri mu kibanza gifite UPI 5/05/01/01/7096 giherereye Kayonza/Gahini/Juru</a>,\n",
       " <a href=\"serivisi/kwamamaza/cyamunara/article/itangazo-rimenyesha-ikomeza-rya-cyamunara-y-amazu-ari-mu-bibanza-bifite-upi-3\">Itangazo rimenyesha ikomeza rya cyamunara y’amazu ari mu bibanza bifite UPI 3/03/04/05/1837 na UPI 3/03/04/05/1838 ndetse n’ibibanza bifite UPI 3/03/04/05/1852 na UPI 3/03/04/05/1853 biherereye Rubavu/Gisenyi/Nengo</a>,\n",
       " <a href=\"serivisi/kwamamaza/cyamunara/article/itangazo-rienyesha-ko-cyamunara-y-amazu-ari-mu-kibanza-gifite-upi-1-03-06-01\">Itangazo rimenyesha ikomeza rya cyamunara y’amazu ari mu kibanza gifite UPI 1/03/06/01/203 giherereye Kicukiro/Kicukiro/Gasharu</a>,\n",
       " <a href=\"serivisi/kwamamaza/cyamunara/article/itangazo-rya-cyamunara-y-amazu-ari-mu-kibanza-gifite-upi-1-03-06-01-203\">Itangazo rya cyamunara y’amazu ari mu kibanza gifite UPI 1/03/06/01/203 giherereye Kicukiro/Kicukiro/Gasharu; Ikibanza gifite UPI 1/02/14/02/377 giherereye Gasabo/Rusororo/Gasagara ndetse n’ikibanza gifite UPI 1/02/05/01/1267 giherereye Gasabo/Jabana/Kamatamu</a>,\n",
       " <a href=\"serivisi/kwamamaza/cyamunara/article/itangazo-rya-cyamunara-y-amazu-ari-mu-bibanza-bifite-upi-3-03-04-05-1837-na-upi\">Itangazo rya cyamunara y’amazu ari mu bibanza bifite UPI 3/03/04/05/1837 na UPI 3/03/04/05/1838 ndetse n’ibibanza bifite UPI 3/03/04/05/1852 na UPI 3/03/04/05/1853 biherereye Rubavu/Gisenyi/Nengo</a>,\n",
       " <a href=\"serivisi/kwamamaza/cyamunara/article/itangazo-rya-cyamunara-ya-construck-ltd-y-ibikoresho-bitandukanye-byakoreshejwe\">Itangazo rya cyamunara ya ConsTruck ltd y’ibikoresho bitandukanye byakoreshejwe biherereye i Jabana</a>,\n",
       " <a href=\"serivisi/kwamamaza/cyamunara/article/itangazo-ryo-kugurisha-hotel-karisimbi-iri-mu-kibanza-gifite-upi-1-01-09-03-867-150128\">Itangazo ryo kugurisha HOTEL KARISIMBI iri mu kibanza gifite UPI 1/01/09/03/867 giherereye Nyarugenge/Nyarugenge/Kiyovu kugira ngo hishyurwe abo SPLENDID KARISIMBI LTD ibereyemo imyenda</a>,\n",
       " <a href=\"serivisi/kwamamaza/cyamunara/article/itangazo-rya-cyamunara-y-imodoka-zo-muri-unhcr-izabera-gahanga-new-gicukiro\">Itangazo rya cyamunara y’imodoka zo muri UNHCR izabera Gahanga/new Gicukiro Industrial park</a>,\n",
       " <a href=\"serivisi/kwamamaza/cyamunara/article/itangazo-ryo-kugurisha-hotel-karisimbi-iri-mu-kibanza-gifite-upi-1-01-09-03-867-149260\">Itangazo ryo kugurisha HOTEL KARISIMBI iri mu kibanza gifite UPI 1/01/09/03/867 giherereye Nyarugenge/Nyarugenge/Kiyovu kugira ngo hishyurwe abo SPLENDID KARISIMBI LTD ibereyemo imyenda</a>,\n",
       " <a href=\"serivisi/kwamamaza/cyamunara/article/itangazo-rya-cyamunara-y-inzu-iri-mu-kibanza-gifite-upi-1-02-13-03-1045\">Itangazo rya cyamunara y’inzu iri mu kibanza gifite UPI 1/02/13/03/1045 giherereye Gasabo/Remera/Rukiri I</a>,\n",
       " <a href=\"serivisi/kwamamaza/cyamunara/article/itangazo-rya-cyamunara-y-imitungo-itimukanwa-ya-bizimana-jean-bosco-iri-mu-148757\">Itangazo rya cyamunara y’imitungo itimukanwa ya BIZIMANA Jean Bosco iri mu bibanza bifite UPI 1/01/03/02/1264 na UPI 1/01/03/02/1266 biherereye Nyarugenge/Kigali/Mwendo</a>,\n",
       " <a href=\"serivisi/kwamamaza/cyamunara/article/itangazo-rya-cyamunara-y-umutungo-utimukanwa-wa-rugumire-richard-na-karigirwa-148754\">Itangazo rya cyamunara y’umutungo utimukanwa wa RUGUMIRE Richard na KARIGIRWA Fabiola uri mu kibanza gifite UPI 5/06/05/01/2564 giherereye Ngoma/Kibungo/Cyasemakamba</a>]"
      ]
     },
     "execution_count": 106,
     "metadata": {},
     "output_type": "execute_result"
    }
   ],
   "source": [
    "links"
   ]
  },
  {
   "cell_type": "code",
   "execution_count": 150,
   "metadata": {},
   "outputs": [
    {
     "name": "stdout",
     "output_type": "stream",
     "text": [
      "src\n",
      "src\n",
      "src\n",
      "src\n",
      "src\n",
      "src\n",
      "src\n",
      "src\n",
      "src\n",
      "src\n",
      "src\n",
      "src\n",
      "src\n",
      "src\n",
      "src\n",
      "src\n",
      "src\n",
      "src\n",
      "src\n",
      "src\n"
     ]
    }
   ],
   "source": [
    "for i in links:\n",
    "    url=i.attrs\n",
    "    print(url)"
   ]
  },
  {
   "cell_type": "code",
   "execution_count": null,
   "metadata": {},
   "outputs": [],
   "source": []
  },
  {
   "cell_type": "code",
   "execution_count": null,
   "metadata": {},
   "outputs": [],
   "source": []
  }
 ],
 "metadata": {
  "kernelspec": {
   "display_name": "Python 3",
   "language": "python",
   "name": "python3"
  },
  "language_info": {
   "codemirror_mode": {
    "name": "ipython",
    "version": 3
   },
   "file_extension": ".py",
   "mimetype": "text/x-python",
   "name": "python",
   "nbconvert_exporter": "python",
   "pygments_lexer": "ipython3",
   "version": "3.8.5"
  }
 },
 "nbformat": 4,
 "nbformat_minor": 4
}
