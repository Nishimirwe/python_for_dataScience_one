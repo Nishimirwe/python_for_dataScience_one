{
 "cells": [
  {
   "cell_type": "code",
   "execution_count": 1,
   "metadata": {},
   "outputs": [
    {
     "name": "stdout",
     "output_type": "stream",
     "text": [
      "Requirement already satisfied: requests in c:\\programdata\\anaconda3\\lib\\site-packages (2.24.0)\n",
      "Requirement already satisfied: idna<3,>=2.5 in c:\\programdata\\anaconda3\\lib\\site-packages (from requests) (2.10)\n",
      "Requirement already satisfied: certifi>=2017.4.17 in c:\\programdata\\anaconda3\\lib\\site-packages (from requests) (2020.6.20)\n",
      "Requirement already satisfied: urllib3!=1.25.0,!=1.25.1,<1.26,>=1.21.1 in c:\\programdata\\anaconda3\\lib\\site-packages (from requests) (1.25.11)\n",
      "Requirement already satisfied: chardet<4,>=3.0.2 in c:\\programdata\\anaconda3\\lib\\site-packages (from requests) (3.0.4)\n"
     ]
    }
   ],
   "source": [
    "!pip install requests"
   ]
  },
  {
   "cell_type": "code",
   "execution_count": 13,
   "metadata": {},
   "outputs": [],
   "source": [
    "import requests as rq\n",
    "import json"
   ]
  },
  {
   "cell_type": "code",
   "execution_count": 3,
   "metadata": {},
   "outputs": [],
   "source": [
    "url=\"https://www.boredapi.com/api/activity\""
   ]
  },
  {
   "cell_type": "code",
   "execution_count": 4,
   "metadata": {},
   "outputs": [],
   "source": [
    "res=rq.get(url)"
   ]
  },
  {
   "cell_type": "code",
   "execution_count": 8,
   "metadata": {},
   "outputs": [],
   "source": [
    "code=res.status_code"
   ]
  },
  {
   "cell_type": "code",
   "execution_count": 11,
   "metadata": {},
   "outputs": [
    {
     "data": {
      "text/plain": [
       "str"
      ]
     },
     "execution_count": 11,
     "metadata": {},
     "output_type": "execute_result"
    }
   ],
   "source": [
    "type(res.text)"
   ]
  },
  {
   "cell_type": "code",
   "execution_count": 10,
   "metadata": {},
   "outputs": [
    {
     "data": {
      "text/plain": [
       "int"
      ]
     },
     "execution_count": 10,
     "metadata": {},
     "output_type": "execute_result"
    }
   ],
   "source": [
    "type(code)"
   ]
  },
  {
   "cell_type": "code",
   "execution_count": 12,
   "metadata": {},
   "outputs": [
    {
     "data": {
      "text/plain": [
       "'{\"activity\":\"Back up important computer files\",\"type\":\"busywork\",\"participants\":1,\"price\":0.2,\"link\":\"\",\"key\":\"9081214\",\"accessibility\":0.2}'"
      ]
     },
     "execution_count": 12,
     "metadata": {},
     "output_type": "execute_result"
    }
   ],
   "source": [
    "res.text"
   ]
  },
  {
   "cell_type": "code",
   "execution_count": 14,
   "metadata": {},
   "outputs": [],
   "source": [
    "res_dict=json.loads(res.text)"
   ]
  },
  {
   "cell_type": "code",
   "execution_count": 15,
   "metadata": {},
   "outputs": [
    {
     "data": {
      "text/plain": [
       "{'activity': 'Back up important computer files',\n",
       " 'type': 'busywork',\n",
       " 'participants': 1,\n",
       " 'price': 0.2,\n",
       " 'link': '',\n",
       " 'key': '9081214',\n",
       " 'accessibility': 0.2}"
      ]
     },
     "execution_count": 15,
     "metadata": {},
     "output_type": "execute_result"
    }
   ],
   "source": [
    "res_dict"
   ]
  },
  {
   "cell_type": "code",
   "execution_count": 17,
   "metadata": {},
   "outputs": [
    {
     "data": {
      "text/plain": [
       "dict_values(['Back up important computer files', 'busywork', 1, 0.2, '', '9081214', 0.2])"
      ]
     },
     "execution_count": 17,
     "metadata": {},
     "output_type": "execute_result"
    }
   ],
   "source": [
    "res_dict.values()"
   ]
  },
  {
   "cell_type": "code",
   "execution_count": 18,
   "metadata": {},
   "outputs": [
    {
     "data": {
      "text/plain": [
       "0.2"
      ]
     },
     "execution_count": 18,
     "metadata": {},
     "output_type": "execute_result"
    }
   ],
   "source": [
    "res_dict['price']"
   ]
  },
  {
   "cell_type": "markdown",
   "metadata": {},
   "source": [
    "# Get Public Ip address"
   ]
  },
  {
   "cell_type": "code",
   "execution_count": 23,
   "metadata": {},
   "outputs": [],
   "source": [
    "import requests as rq\n",
    "url=\"https://api.ipify.org\""
   ]
  },
  {
   "cell_type": "code",
   "execution_count": 24,
   "metadata": {},
   "outputs": [],
   "source": [
    "res=rq.get(url)"
   ]
  },
  {
   "cell_type": "code",
   "execution_count": 28,
   "metadata": {},
   "outputs": [
    {
     "data": {
      "text/plain": [
       "200"
      ]
     },
     "execution_count": 28,
     "metadata": {},
     "output_type": "execute_result"
    }
   ],
   "source": [
    "res.status_code"
   ]
  },
  {
   "cell_type": "code",
   "execution_count": 29,
   "metadata": {},
   "outputs": [
    {
     "data": {
      "text/plain": [
       "'102.22.140.5'"
      ]
     },
     "execution_count": 29,
     "metadata": {},
     "output_type": "execute_result"
    }
   ],
   "source": [
    "res.text"
   ]
  },
  {
   "cell_type": "code",
   "execution_count": 44,
   "metadata": {},
   "outputs": [
    {
     "data": {
      "text/plain": [
       "200"
      ]
     },
     "execution_count": 44,
     "metadata": {},
     "output_type": "execute_result"
    }
   ],
   "source": [
    "url=\"https://ur.ac.rw/\"\n",
    "results=rq.get(url)\n",
    "results.status_code"
   ]
  },
  {
   "cell_type": "code",
   "execution_count": 47,
   "metadata": {},
   "outputs": [
    {
     "name": "stdout",
     "output_type": "stream",
     "text": [
      "This is related to Rwanda\n"
     ]
    }
   ],
   "source": [
    "import json\n",
    "if \"Rwanda\" in results.text:\n",
    "    print(\"This is related to Rwanda\")"
   ]
  },
  {
   "cell_type": "code",
   "execution_count": 49,
   "metadata": {},
   "outputs": [
    {
     "data": {
      "text/plain": [
       "'!'"
      ]
     },
     "execution_count": 49,
     "metadata": {},
     "output_type": "execute_result"
    }
   ],
   "source": [
    "len(results.text)\n",
    "results.text[1]"
   ]
  },
  {
   "cell_type": "code",
   "execution_count": 50,
   "metadata": {},
   "outputs": [],
   "source": [
    "url=\"https://api.tvmaze.com/search/shows?q=friends\""
   ]
  },
  {
   "cell_type": "code",
   "execution_count": 51,
   "metadata": {},
   "outputs": [],
   "source": [
    "res=rq.get(url)"
   ]
  },
  {
   "cell_type": "code",
   "execution_count": 52,
   "metadata": {},
   "outputs": [
    {
     "data": {
      "text/plain": [
       "<Response [200]>"
      ]
     },
     "execution_count": 52,
     "metadata": {},
     "output_type": "execute_result"
    }
   ],
   "source": [
    "res"
   ]
  },
  {
   "cell_type": "code",
   "execution_count": 53,
   "metadata": {},
   "outputs": [
    {
     "data": {
      "text/plain": [
       "200"
      ]
     },
     "execution_count": 53,
     "metadata": {},
     "output_type": "execute_result"
    }
   ],
   "source": [
    "res.status_code"
   ]
  },
  {
   "cell_type": "code",
   "execution_count": 57,
   "metadata": {},
   "outputs": [],
   "source": [
    "real_json_data=json.loads(res.text)"
   ]
  },
  {
   "cell_type": "code",
   "execution_count": 58,
   "metadata": {},
   "outputs": [
    {
     "data": {
      "text/plain": [
       "10"
      ]
     },
     "execution_count": 58,
     "metadata": {},
     "output_type": "execute_result"
    }
   ],
   "source": [
    "len(real_json_data)"
   ]
  },
  {
   "cell_type": "code",
   "execution_count": 62,
   "metadata": {},
   "outputs": [
    {
     "data": {
      "text/plain": [
       "list"
      ]
     },
     "execution_count": 62,
     "metadata": {},
     "output_type": "execute_result"
    }
   ],
   "source": [
    "type(real_json_data)"
   ]
  },
  {
   "cell_type": "code",
   "execution_count": 64,
   "metadata": {},
   "outputs": [
    {
     "name": "stdout",
     "output_type": "stream",
     "text": [
      "False\n"
     ]
    }
   ],
   "source": [
    "if \"netowrk\" in real_json_data:\n",
    "    print(True)\n",
    "else:\n",
    "    print(False)"
   ]
  },
  {
   "cell_type": "markdown",
   "metadata": {},
   "source": [
    "# Download images with python scripts\n",
    "1. Copy its link from broswer and get its url"
   ]
  },
  {
   "cell_type": "code",
   "execution_count": 65,
   "metadata": {},
   "outputs": [],
   "source": [
    "img_url=\"https://media.wired.com/photos/5fd7ff52e0d489b7b9fd2e33/1:1/w_1599,h_1599,c_limit/Business-MustangE-ERA04140.jpg\""
   ]
  },
  {
   "cell_type": "code",
   "execution_count": 66,
   "metadata": {},
   "outputs": [],
   "source": [
    "img_res=rq.get(img_url)"
   ]
  },
  {
   "cell_type": "code",
   "execution_count": 67,
   "metadata": {},
   "outputs": [
    {
     "data": {
      "text/plain": [
       "200"
      ]
     },
     "execution_count": 67,
     "metadata": {},
     "output_type": "execute_result"
    }
   ],
   "source": [
    "img_res.status_code"
   ]
  },
  {
   "cell_type": "code",
   "execution_count": 70,
   "metadata": {},
   "outputs": [],
   "source": [
    "imgh_data=img_res.content"
   ]
  },
  {
   "cell_type": "code",
   "execution_count": null,
   "metadata": {},
   "outputs": [],
   "source": [
    "with open(\"car.jpg\",'wb') as f:\n",
    "    f.write(imgh_data)"
   ]
  },
  {
   "cell_type": "code",
   "execution_count": 93,
   "metadata": {},
   "outputs": [],
   "source": [
    "def downloadImg(name,url):\n",
    "    img_res=rq.get(url)\n",
    "    img_res.status_code\n",
    "    img_data=img_res.content\n",
    "    with open(name,'wb') as f:\n",
    "        f.write(img_data)"
   ]
  },
  {
   "cell_type": "code",
   "execution_count": 94,
   "metadata": {},
   "outputs": [],
   "source": [
    "downloadImg(\"carg.jpg\",\"https://media.wired.com/photos/5fd7ff52e0d489b7b9fd2e33/1:1/w_1599,h_1599,c_limit/Business-MustangE-ERA04140.jpg\")"
   ]
  },
  {
   "cell_type": "markdown",
   "metadata": {},
   "source": []
  },
  {
   "cell_type": "markdown",
   "metadata": {},
   "source": [
    "# beautifulsoup library\n",
    "- Very useful in web scraping ( Getting data from web in python)"
   ]
  },
  {
   "cell_type": "code",
   "execution_count": 98,
   "metadata": {},
   "outputs": [
    {
     "name": "stdout",
     "output_type": "stream",
     "text": [
      "Collecting bs4\n",
      "  Downloading bs4-0.0.1.tar.gz (1.1 kB)\n",
      "Requirement already satisfied: beautifulsoup4 in c:\\programdata\\anaconda3\\lib\\site-packages (from bs4) (4.9.3)\n",
      "Requirement already satisfied: soupsieve>1.2; python_version >= \"3.0\" in c:\\programdata\\anaconda3\\lib\\site-packages (from beautifulsoup4->bs4) (2.0.1)\n",
      "Building wheels for collected packages: bs4\n",
      "  Building wheel for bs4 (setup.py): started\n",
      "  Building wheel for bs4 (setup.py): finished with status 'done'\n",
      "  Created wheel for bs4: filename=bs4-0.0.1-py3-none-any.whl size=1277 sha256=4cc10e999482e572827069c4b8b604ce8a462b9a289d1229c6e07e41516465a0\n",
      "  Stored in directory: c:\\users\\jean paul nishimirwe\\appdata\\local\\pip\\cache\\wheels\\75\\78\\21\\68b124549c9bdc94f822c02fb9aa3578a669843f9767776bca\n",
      "Successfully built bs4\n",
      "Installing collected packages: bs4\n",
      "Successfully installed bs4-0.0.1\n"
     ]
    }
   ],
   "source": [
    "# Import beautifulsoup 4\n",
    "!pip install bs4"
   ]
  },
  {
   "cell_type": "code",
   "execution_count": 99,
   "metadata": {},
   "outputs": [],
   "source": [
    "# Now import it with requests\n",
    "import bs4\n",
    "import requests as rq"
   ]
  },
  {
   "cell_type": "code",
   "execution_count": 100,
   "metadata": {},
   "outputs": [],
   "source": [
    "url=\"https://en.wikipedia.org/wiki/List_of_countries_and_dependencies_and_their_capitals_in_native_languages\""
   ]
  },
  {
   "cell_type": "code",
   "execution_count": 101,
   "metadata": {},
   "outputs": [],
   "source": [
    "url_res=rq.get(url)"
   ]
  },
  {
   "cell_type": "code",
   "execution_count": 102,
   "metadata": {},
   "outputs": [
    {
     "data": {
      "text/plain": [
       "200"
      ]
     },
     "execution_count": 102,
     "metadata": {},
     "output_type": "execute_result"
    }
   ],
   "source": [
    "url_res.status_code"
   ]
  },
  {
   "cell_type": "code",
   "execution_count": 103,
   "metadata": {},
   "outputs": [],
   "source": [
    "data=url_res.content"
   ]
  },
  {
   "cell_type": "code",
   "execution_count": 104,
   "metadata": {},
   "outputs": [
    {
     "data": {
      "text/plain": [
       "bytes"
      ]
     },
     "execution_count": 104,
     "metadata": {},
     "output_type": "execute_result"
    }
   ],
   "source": [
    "type(data)"
   ]
  },
  {
   "cell_type": "code",
   "execution_count": 107,
   "metadata": {},
   "outputs": [],
   "source": [
    "soup_data=bs4.BeautifulSoup(data)"
   ]
  },
  {
   "cell_type": "code",
   "execution_count": 108,
   "metadata": {},
   "outputs": [
    {
     "data": {
      "text/plain": [
       "bs4.BeautifulSoup"
      ]
     },
     "execution_count": 108,
     "metadata": {},
     "output_type": "execute_result"
    }
   ],
   "source": [
    "type(soup_data)"
   ]
  },
  {
   "cell_type": "markdown",
   "metadata": {},
   "source": [
    "# With beautifusoup, you can easily get any html tag's element that you wants"
   ]
  },
  {
   "cell_type": "code",
   "execution_count": 113,
   "metadata": {},
   "outputs": [
    {
     "data": {
      "text/plain": [
       "<title>List of countries and dependencies and their capitals in native languages - Wikipedia</title>"
      ]
     },
     "execution_count": 113,
     "metadata": {},
     "output_type": "execute_result"
    }
   ],
   "source": [
    "soup_data.title"
   ]
  },
  {
   "cell_type": "code",
   "execution_count": 116,
   "metadata": {},
   "outputs": [
    {
     "data": {
      "text/plain": [
       "'List of countries and dependencies and their capitals in native languages'"
      ]
     },
     "execution_count": 116,
     "metadata": {},
     "output_type": "execute_result"
    }
   ],
   "source": [
    "soup_data.h1.text"
   ]
  },
  {
   "cell_type": "markdown",
   "metadata": {},
   "source": [
    "# Find data as you want from web with beautifulsoup"
   ]
  },
  {
   "cell_type": "code",
   "execution_count": 128,
   "metadata": {},
   "outputs": [],
   "source": [
    "tables=soup_data.find_all('table')"
   ]
  },
  {
   "cell_type": "code",
   "execution_count": 129,
   "metadata": {},
   "outputs": [
    {
     "data": {
      "text/plain": [
       "32"
      ]
     },
     "execution_count": 129,
     "metadata": {},
     "output_type": "execute_result"
    }
   ],
   "source": [
    "len(tables)"
   ]
  },
  {
   "cell_type": "markdown",
   "metadata": {},
   "source": [
    "### I only want to find tables of a certain class name"
   ]
  },
  {
   "cell_type": "code",
   "execution_count": 130,
   "metadata": {},
   "outputs": [],
   "source": [
    "wanted_tables=soup_data.find_all('table', attrs={\"class\" : \"wikitable\"})"
   ]
  },
  {
   "cell_type": "code",
   "execution_count": 131,
   "metadata": {},
   "outputs": [
    {
     "data": {
      "text/plain": [
       "25"
      ]
     },
     "execution_count": 131,
     "metadata": {},
     "output_type": "execute_result"
    }
   ],
   "source": [
    "len(wanted_tables)"
   ]
  },
  {
   "cell_type": "code",
   "execution_count": 136,
   "metadata": {},
   "outputs": [
    {
     "name": "stdout",
     "output_type": "stream",
     "text": [
      "\n",
      "\n",
      "Country (exonym)\n",
      "\n",
      "Capital (exonym)\n",
      "\n",
      "Country (endonym)\n",
      "\n",
      "Capital (endonym)\n",
      "\n",
      "Official or native language(s) (alphabet/script)\n",
      "\n",
      "\n",
      " Réunion[9]\n",
      "Saint-Denis\n",
      "La Réunion\n",
      "Saint-Denis\n",
      "French\n",
      "\n",
      "\n",
      " Romania\n",
      "Bucharest\n",
      "România\n",
      "București\n",
      "Romanian\n",
      "\n",
      "\n",
      " Russia\n",
      "Moscow\n",
      "Rossiya or RossiâРоссия[5]\n",
      "MoskvaМосква\n",
      "Russian(Cyrillic script)\n",
      "\n",
      "\n",
      " Rwanda\n",
      "Kigali\n",
      "Rwanda\n",
      "Kigali\n",
      "French, Kinyarwanda, Swahili, English\n",
      "\n"
     ]
    }
   ],
   "source": [
    "for i in wanted_tables:\n",
    "    if \"rwanda\" in i.text.lower():\n",
    "        print(i.text)"
   ]
  },
  {
   "cell_type": "code",
   "execution_count": 146,
   "metadata": {},
   "outputs": [
    {
     "name": "stdout",
     "output_type": "stream",
     "text": [
      "4\n"
     ]
    }
   ],
   "source": [
    "for i in wanted_tables:\n",
    "    if \"rwanda\" in i.text.lower():\n",
    "        rows=i.find_all('tr')\n",
    "        print(len(rows[1:]))\n",
    "        break"
   ]
  },
  {
   "cell_type": "code",
   "execution_count": 148,
   "metadata": {},
   "outputs": [],
   "source": [
    "rows=rows[1:]"
   ]
  },
  {
   "cell_type": "code",
   "execution_count": 149,
   "metadata": {},
   "outputs": [
    {
     "data": {
      "text/plain": [
       "4"
      ]
     },
     "execution_count": 149,
     "metadata": {},
     "output_type": "execute_result"
    }
   ],
   "source": [
    "len(rows)"
   ]
  },
  {
   "cell_type": "code",
   "execution_count": 158,
   "metadata": {},
   "outputs": [],
   "source": [
    "rwanda_row=rows[-1]"
   ]
  },
  {
   "cell_type": "code",
   "execution_count": 160,
   "metadata": {},
   "outputs": [],
   "source": [
    "rwanda_row\n",
    "rwanda_columns=rwanda_row.find_all('td')"
   ]
  },
  {
   "cell_type": "code",
   "execution_count": 161,
   "metadata": {},
   "outputs": [
    {
     "data": {
      "text/plain": [
       "5"
      ]
     },
     "execution_count": 161,
     "metadata": {},
     "output_type": "execute_result"
    }
   ],
   "source": [
    "len(rwanda_columns)"
   ]
  },
  {
   "cell_type": "code",
   "execution_count": 170,
   "metadata": {},
   "outputs": [
    {
     "data": {
      "text/plain": [
       "[<td><span class=\"flagicon\"><a href=\"/wiki/Rwanda\" title=\"Rwanda\"><img alt=\"Rwanda\" class=\"thumbborder\" data-file-height=\"720\" data-file-width=\"1080\" decoding=\"async\" height=\"15\" src=\"//upload.wikimedia.org/wikipedia/commons/thumb/1/17/Flag_of_Rwanda.svg/23px-Flag_of_Rwanda.svg.png\" srcset=\"//upload.wikimedia.org/wikipedia/commons/thumb/1/17/Flag_of_Rwanda.svg/35px-Flag_of_Rwanda.svg.png 1.5x, //upload.wikimedia.org/wikipedia/commons/thumb/1/17/Flag_of_Rwanda.svg/45px-Flag_of_Rwanda.svg.png 2x\" width=\"23\"/></a></span> <b><a href=\"/wiki/Rwanda\" title=\"Rwanda\">Rwanda</a></b></td>,\n",
       " <td><a href=\"/wiki/Kigali\" title=\"Kigali\">Kigali</a></td>,\n",
       " <td><b>Rwanda</b></td>,\n",
       " <td><b>Kigali</b></td>,\n",
       " <td><a href=\"/wiki/French_language\" title=\"French language\">French</a>, <a href=\"/wiki/Kinyarwanda\" title=\"Kinyarwanda\">Kinyarwanda</a>, <a href=\"/wiki/Swahili_language\" title=\"Swahili language\">Swahili</a>, <a href=\"/wiki/English_language\" title=\"English language\">English</a>\n",
       " </td>]"
      ]
     },
     "execution_count": 170,
     "metadata": {},
     "output_type": "execute_result"
    }
   ],
   "source": [
    "rwanda_columns"
   ]
  },
  {
   "cell_type": "code",
   "execution_count": 169,
   "metadata": {},
   "outputs": [
    {
     "data": {
      "text/plain": [
       "'//upload.wikimedia.org/wikipedia/commons/thumb/1/17/Flag_of_Rwanda.svg/23px-Flag_of_Rwanda.svg.png'"
      ]
     },
     "execution_count": 169,
     "metadata": {},
     "output_type": "execute_result"
    }
   ],
   "source": [
    "rwanda_columns[0].img.attrs['src']"
   ]
  },
  {
   "cell_type": "code",
   "execution_count": 174,
   "metadata": {},
   "outputs": [],
   "source": [
    "country,capital,country_end,capital_end,languages=tuple(rwanda_columns)"
   ]
  },
  {
   "cell_type": "code",
   "execution_count": 195,
   "metadata": {},
   "outputs": [
    {
     "data": {
      "text/plain": [
       "'Kigali'"
      ]
     },
     "execution_count": 195,
     "metadata": {},
     "output_type": "execute_result"
    }
   ],
   "source": [
    "c=country.text\n",
    "capital"
   ]
  },
  {
   "cell_type": "code",
   "execution_count": 204,
   "metadata": {},
   "outputs": [],
   "source": [
    "Countries_dict=dict()\n",
    "Countries_dict[c]=[capital,languages.text[:-1]]"
   ]
  },
  {
   "cell_type": "code",
   "execution_count": 205,
   "metadata": {},
   "outputs": [
    {
     "data": {
      "text/plain": [
       "{' Rwanda': ['Kigali', 'French, Kinyarwanda, Swahili, English']}"
      ]
     },
     "execution_count": 205,
     "metadata": {},
     "output_type": "execute_result"
    }
   ],
   "source": [
    "Countries_dict"
   ]
  },
  {
   "cell_type": "code",
   "execution_count": 206,
   "metadata": {},
   "outputs": [
    {
     "data": {
      "text/plain": [
       "[<tr>\n",
       " <td><span class=\"flagicon\"><a href=\"/wiki/R%C3%A9union\" title=\"Réunion\"><img alt=\"Réunion\" class=\"thumbborder\" data-file-height=\"600\" data-file-width=\"900\" decoding=\"async\" height=\"15\" src=\"//upload.wikimedia.org/wikipedia/en/thumb/c/c3/Flag_of_France.svg/23px-Flag_of_France.svg.png\" srcset=\"//upload.wikimedia.org/wikipedia/en/thumb/c/c3/Flag_of_France.svg/35px-Flag_of_France.svg.png 1.5x, //upload.wikimedia.org/wikipedia/en/thumb/c/c3/Flag_of_France.svg/45px-Flag_of_France.svg.png 2x\" width=\"23\"/></a></span> <i><a href=\"/wiki/R%C3%A9union\" title=\"Réunion\">Réunion</a></i><sup class=\"reference\" id=\"cite_ref-fr-dom_9-4\"><a href=\"#cite_note-fr-dom-9\">[9]</a></sup></td>\n",
       " <td><a href=\"/wiki/Saint-Denis,_R%C3%A9union\" title=\"Saint-Denis, Réunion\">Saint-Denis</a></td>\n",
       " <td><b>La Réunion</b></td>\n",
       " <td><b>Saint-Denis</b></td>\n",
       " <td><a href=\"/wiki/French_language\" title=\"French language\">French</a>\n",
       " </td></tr>,\n",
       " <tr>\n",
       " <td><span class=\"flagicon\"><a href=\"/wiki/Romania\" title=\"Romania\"><img alt=\"Romania\" class=\"thumbborder\" data-file-height=\"400\" data-file-width=\"600\" decoding=\"async\" height=\"15\" src=\"//upload.wikimedia.org/wikipedia/commons/thumb/7/73/Flag_of_Romania.svg/23px-Flag_of_Romania.svg.png\" srcset=\"//upload.wikimedia.org/wikipedia/commons/thumb/7/73/Flag_of_Romania.svg/35px-Flag_of_Romania.svg.png 1.5x, //upload.wikimedia.org/wikipedia/commons/thumb/7/73/Flag_of_Romania.svg/45px-Flag_of_Romania.svg.png 2x\" width=\"23\"/></a></span> <b><a href=\"/wiki/Romania\" title=\"Romania\">Romania</a></b></td>\n",
       " <td><a href=\"/wiki/Bucharest\" title=\"Bucharest\">Bucharest</a></td>\n",
       " <td><b>România</b></td>\n",
       " <td><b>București</b></td>\n",
       " <td><a href=\"/wiki/Romanian_language\" title=\"Romanian language\">Romanian</a>\n",
       " </td></tr>,\n",
       " <tr>\n",
       " <td><span class=\"flagicon\"><a href=\"/wiki/Russia\" title=\"Russia\"><img alt=\"Russia\" class=\"thumbborder\" data-file-height=\"600\" data-file-width=\"900\" decoding=\"async\" height=\"15\" src=\"//upload.wikimedia.org/wikipedia/en/thumb/f/f3/Flag_of_Russia.svg/23px-Flag_of_Russia.svg.png\" srcset=\"//upload.wikimedia.org/wikipedia/en/thumb/f/f3/Flag_of_Russia.svg/35px-Flag_of_Russia.svg.png 1.5x, //upload.wikimedia.org/wikipedia/en/thumb/f/f3/Flag_of_Russia.svg/45px-Flag_of_Russia.svg.png 2x\" width=\"23\"/></a></span> <b><a href=\"/wiki/Russia\" title=\"Russia\">Russia</a></b></td>\n",
       " <td><a href=\"/wiki/Moscow\" title=\"Moscow\">Moscow</a></td>\n",
       " <td><b>Rossiya</b> or <b>Rossiâ</b><br/>Россия<sup class=\"reference\" id=\"cite_ref-BulgariaRussia_5-1\"><a href=\"#cite_note-BulgariaRussia-5\">[5]</a></sup></td>\n",
       " <td><b>Moskva</b><br/>Москва</td>\n",
       " <td><a href=\"/wiki/Russian_language\" title=\"Russian language\">Russian</a><br/>(<a href=\"/wiki/Cyrillic_script\" title=\"Cyrillic script\">Cyrillic script</a>)\n",
       " </td></tr>,\n",
       " <tr>\n",
       " <td><span class=\"flagicon\"><a href=\"/wiki/Rwanda\" title=\"Rwanda\"><img alt=\"Rwanda\" class=\"thumbborder\" data-file-height=\"720\" data-file-width=\"1080\" decoding=\"async\" height=\"15\" src=\"//upload.wikimedia.org/wikipedia/commons/thumb/1/17/Flag_of_Rwanda.svg/23px-Flag_of_Rwanda.svg.png\" srcset=\"//upload.wikimedia.org/wikipedia/commons/thumb/1/17/Flag_of_Rwanda.svg/35px-Flag_of_Rwanda.svg.png 1.5x, //upload.wikimedia.org/wikipedia/commons/thumb/1/17/Flag_of_Rwanda.svg/45px-Flag_of_Rwanda.svg.png 2x\" width=\"23\"/></a></span> <b><a href=\"/wiki/Rwanda\" title=\"Rwanda\">Rwanda</a></b></td>\n",
       " <td><a href=\"/wiki/Kigali\" title=\"Kigali\">Kigali</a></td>\n",
       " <td><b>Rwanda</b></td>\n",
       " <td><b>Kigali</b></td>\n",
       " <td><a href=\"/wiki/French_language\" title=\"French language\">French</a>, <a href=\"/wiki/Kinyarwanda\" title=\"Kinyarwanda\">Kinyarwanda</a>, <a href=\"/wiki/Swahili_language\" title=\"Swahili language\">Swahili</a>, <a href=\"/wiki/English_language\" title=\"English language\">English</a>\n",
       " </td></tr>]"
      ]
     },
     "execution_count": 206,
     "metadata": {},
     "output_type": "execute_result"
    }
   ],
   "source": [
    "rows"
   ]
  },
  {
   "cell_type": "code",
   "execution_count": 216,
   "metadata": {},
   "outputs": [],
   "source": [
    "# I am go extract all countries with Rwanda in a table (small table)\n",
    "countries_with_rwanda=dict()\n",
    "country_data=dict()\n",
    "for i in rows:\n",
    "    col=i.find_all('td')\n",
    "    country_data[\"Name\"]=col[0].text\n",
    "    country_data[\"Capital\"]=col[1].text\n",
    "    country_data[\"Languages\"]=col[-1].text[:-1]\n",
    "    countries_with_rwanda[col[0].text]=country_data\n",
    "   "
   ]
  },
  {
   "cell_type": "code",
   "execution_count": 217,
   "metadata": {},
   "outputs": [
    {
     "data": {
      "text/plain": [
       "{' Réunion[9]': {'Name': ' Rwanda',\n",
       "  'Capital': 'Kigali',\n",
       "  'Languages': 'French, Kinyarwanda, Swahili, English'},\n",
       " ' Romania': {'Name': ' Rwanda',\n",
       "  'Capital': 'Kigali',\n",
       "  'Languages': 'French, Kinyarwanda, Swahili, English'},\n",
       " ' Russia': {'Name': ' Rwanda',\n",
       "  'Capital': 'Kigali',\n",
       "  'Languages': 'French, Kinyarwanda, Swahili, English'},\n",
       " ' Rwanda': {'Name': ' Rwanda',\n",
       "  'Capital': 'Kigali',\n",
       "  'Languages': 'French, Kinyarwanda, Swahili, English'}}"
      ]
     },
     "execution_count": 217,
     "metadata": {},
     "output_type": "execute_result"
    }
   ],
   "source": [
    "countries_with_rwanda"
   ]
  },
  {
   "cell_type": "code",
   "execution_count": null,
   "metadata": {},
   "outputs": [],
   "source": []
  },
  {
   "cell_type": "code",
   "execution_count": null,
   "metadata": {},
   "outputs": [],
   "source": []
  }
 ],
 "metadata": {
  "kernelspec": {
   "display_name": "Python 3",
   "language": "python",
   "name": "python3"
  },
  "language_info": {
   "codemirror_mode": {
    "name": "ipython",
    "version": 3
   },
   "file_extension": ".py",
   "mimetype": "text/x-python",
   "name": "python",
   "nbconvert_exporter": "python",
   "pygments_lexer": "ipython3",
   "version": "3.8.5"
  }
 },
 "nbformat": 4,
 "nbformat_minor": 4
}
