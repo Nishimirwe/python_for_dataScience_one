{
 "cells": [
  {
   "cell_type": "code",
   "execution_count": 7,
   "metadata": {},
   "outputs": [],
   "source": [
    "import cv2\n",
    "import numpy as  np"
   ]
  },
  {
   "cell_type": "code",
   "execution_count": 8,
   "metadata": {},
   "outputs": [],
   "source": [
    "camera=cv2.VideoCapture(0)\n",
    "while True:\n",
    "    ret, frame=camera.read()\n",
    "    if not ret==True:\n",
    "        continue\n",
    "    else:\n",
    "        gray=cv2.cvtColor(frame, cv2.COLOR_BGR2GRAY)\n",
    "        cv2.imshow('My Video review',gray)\n",
    "        if(cv2.waitKey(1) == ord('q') or cv2.waitKey(1)==ord('Q')):\n",
    "            break\n",
    "               \n",
    "camera.release()\n",
    "cv2.destroyAllWindows()"
   ]
  },
  {
   "cell_type": "markdown",
   "metadata": {},
   "source": [
    "# I am going to load a video and detect faces in camera, drwa rectangle in each face"
   ]
  },
  {
   "cell_type": "code",
   "execution_count": 10,
   "metadata": {},
   "outputs": [],
   "source": [
    "#  Function to take image and detect faces in that Image\n",
    "def detectFaces(frame):\n",
    "    detector=cv2.CascadeClassifier('./haarcascade/haarcascade_frontalface_default.xml')\n",
    "    all_faces=detector.detectMultiScale(frame)\n",
    "    for face in all_faces:\n",
    "        x,y,w,h=face\n",
    "        frame=cv2.rectangle(frame,(x,y),(x+w,y+h),(255,255,0),4)"
   ]
  },
  {
   "cell_type": "code",
   "execution_count": 13,
   "metadata": {},
   "outputs": [],
   "source": [
    "# The following codes will open camera\n",
    "# These codes calls detectFaces function to detect faces in camera\n",
    "cam=cv2.VideoCapture(0)\n",
    "while True:\n",
    "    r, frame=cam.read()\n",
    "    if not r: \n",
    "        continue\n",
    "    else:\n",
    "        detectFaces(frame)\n",
    "        cv2.imshow('Detecting', frame)\n",
    "        if cv2.waitKey(1)==ord('q') or cv2.waitKey(1)==ord('Q'):\n",
    "            break\n",
    "cam.release()\n",
    "cv2.destroyAllWindows()\n",
    "    "
   ]
  },
  {
   "cell_type": "code",
   "execution_count": null,
   "metadata": {},
   "outputs": [],
   "source": []
  }
 ],
 "metadata": {
  "kernelspec": {
   "display_name": "Python 3",
   "language": "python",
   "name": "python3"
  },
  "language_info": {
   "codemirror_mode": {
    "name": "ipython",
    "version": 3
   },
   "file_extension": ".py",
   "mimetype": "text/x-python",
   "name": "python",
   "nbconvert_exporter": "python",
   "pygments_lexer": "ipython3",
   "version": "3.8.5"
  }
 },
 "nbformat": 4,
 "nbformat_minor": 4
}
