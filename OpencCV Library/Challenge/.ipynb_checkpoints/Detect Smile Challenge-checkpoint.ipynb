{
 "cells": [
  {
   "cell_type": "markdown",
   "metadata": {},
   "source": [
    "# Challenge to detect smiles"
   ]
  },
  {
   "cell_type": "code",
   "execution_count": 18,
   "metadata": {},
   "outputs": [],
   "source": [
    "import cv2 as cv\n",
    "import matplotlib.pyplot as plt\n",
    "import numpy as np\n",
    "import pandas as pd"
   ]
  },
  {
   "cell_type": "code",
   "execution_count": 37,
   "metadata": {},
   "outputs": [],
   "source": [
    "# This function call the haarcascade file to detect smile\n",
    "def detectSmile(frame):\n",
    "    detector=cv.CascadeClassifier('./haarcascade/smile_detect.xml') # Detector of smile\n",
    "    all_faces_smile=detector.detectMultiScale(frame,1.5,60) # This contains all smiles in camera. Before I added (1.5,60) it was detecting too many smiles\n",
    "    for smile in all_faces_smile:\n",
    "        x,y,w,h=smile\n",
    "        frame=cv.circle(frame,(x,y),(x+w,y+h),(255,100,0),4) #Draw a circle on a smile in screen"
   ]
  },
  {
   "cell_type": "code",
   "execution_count": 38,
   "metadata": {},
   "outputs": [],
   "source": [
    "def open_camera_and_detect_smile(): # Open camera Function\n",
    "    cam=cv.VideoCapture(0) # Open camera, usually many devices have single camera, that's why we open cmear(0). If ypur device has many cameras, possible to open even camera 2,3,4,5,...\n",
    "    while True:\n",
    "        r,frame=cam.read() # cam.read() give bool,frame\n",
    "        if not r: # if bool==false, means camera is reading nothing\n",
    "            continue # Jump and continue\n",
    "        else:\n",
    "            detectSmile(frame) # Call detect smile function to detect smiles in camera\n",
    "            cv.imshow('Detecting Smiles',frame) #  Show detected smiles on camera\n",
    "            if cv.waitKey(10)==ord('q') or cv.waitKey(1)==ord('Q'): # Once user presses q or Q, we will move out of the loop\n",
    "                break\n",
    "    cam.release() # After loop, we release camera \n",
    "    cv.destroyAllWindows() # and destroy new windows opened by cv.VideoCaputure()"
   ]
  },
  {
   "cell_type": "code",
   "execution_count": 40,
   "metadata": {},
   "outputs": [
    {
     "name": "stdout",
     "output_type": "stream",
     "text": [
      "Enter on if you want to open camera and detect faces: 1\n",
      "Wait, camera is coming\n"
     ]
    }
   ],
   "source": [
    "choice=int(input(\"Enter on if you want to open camera and detect faces: \"))\n",
    "if choice==1:\n",
    "    print(\"Wait, camera is coming\")\n",
    "    open_camera_and_detect_smile()\n",
    "else:\n",
    "    print(\"Thank you, Good Bye if you don't want to detect smiles.\")"
   ]
  },
  {
   "cell_type": "code",
   "execution_count": null,
   "metadata": {},
   "outputs": [],
   "source": []
  },
  {
   "cell_type": "code",
   "execution_count": null,
   "metadata": {},
   "outputs": [],
   "source": []
  }
 ],
 "metadata": {
  "kernelspec": {
   "display_name": "Python 3",
   "language": "python",
   "name": "python3"
  },
  "language_info": {
   "codemirror_mode": {
    "name": "ipython",
    "version": 3
   },
   "file_extension": ".py",
   "mimetype": "text/x-python",
   "name": "python",
   "nbconvert_exporter": "python",
   "pygments_lexer": "ipython3",
   "version": "3.8.5"
  }
 },
 "nbformat": 4,
 "nbformat_minor": 4
}
