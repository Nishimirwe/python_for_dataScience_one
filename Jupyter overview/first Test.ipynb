{
 "cells": [
  {
   "cell_type": "code",
   "execution_count": 4,
   "metadata": {},
   "outputs": [
    {
     "name": "stdout",
     "output_type": "stream",
     "text": [
      "90\n",
      "34\n"
     ]
    }
   ],
   "source": [
    "# shift + enter = run cell\n",
    "# esc (put in command mode) the press \"b\" = add cell below\n",
    "# esc (put in command mode) the press \"dd\" = delete cell below\n",
    "li=[90,34,23]\n",
    "for i in li:\n",
    "    if i%2==0:\n",
    "        print(i)"
   ]
  },
  {
   "cell_type": "markdown",
   "metadata": {},
   "source": [
    "# Learning basic\n",
    "<center>I am here watching</center>"
   ]
  },
  {
   "cell_type": "code",
   "execution_count": 13,
   "metadata": {},
   "outputs": [
    {
     "name": "stdout",
     "output_type": "stream",
     "text": [
      "{1: 3}\n"
     ]
    }
   ],
   "source": [
    "car =dict()\n",
    "\n",
    "car.update({1: 3})\n",
    "\n",
    "print(car) "
   ]
  },
  {
   "cell_type": "code",
   "execution_count": 20,
   "metadata": {},
   "outputs": [
    {
     "name": "stdout",
     "output_type": "stream",
     "text": [
      "3+7=10\n",
      "<class 'int'>\n",
      "Enter number to find its square3\n",
      "27\n"
     ]
    }
   ],
   "source": [
    "a=3\n",
    "b=7\n",
    "c=a+b\n",
    "print(f\"{a}+{b}={c}\")\n",
    "print(type(a))\n",
    "\n",
    "x=int(input(\"Enter number to find its square\"))\n",
    "print(x**x)"
   ]
  },
  {
   "cell_type": "markdown",
   "metadata": {},
   "source": [
    "# New Loop Skills of specifying i++ or i+value"
   ]
  },
  {
   "cell_type": "code",
   "execution_count": 26,
   "metadata": {},
   "outputs": [
    {
     "name": "stdout",
     "output_type": "stream",
     "text": [
      "1 : 3 : 5 : 7 : 9 : 11 : 13 : 15 : 17 : 19 : 21 : 23 : 25 : 27 : 29 : 31 : 33 : 35 : 37 : 39 : 41 : 43 : 45 : 47 : 49 : "
     ]
    }
   ],
   "source": [
    "# I am going to only print odd numbers from 1 to 50\n",
    "for i in range(1,51,2):\n",
    "    print(f\"{i} : \",end='')"
   ]
  },
  {
   "cell_type": "markdown",
   "metadata": {},
   "source": [
    "# Remainder about finding the square root of a number\n",
    "- Make it to the power of 0.5\n",
    "- I am gon try power of 1/2\n",
    "    - They all work perfectly"
   ]
  },
  {
   "cell_type": "code",
   "execution_count": 33,
   "metadata": {},
   "outputs": [
    {
     "name": "stdout",
     "output_type": "stream",
     "text": [
      "3\n",
      "45\n"
     ]
    }
   ],
   "source": [
    "def sqrt(n):\n",
    "    return int(n**(1/2))\n",
    "print(sqrt(9))\n",
    "print(5 and 4 and 1 and 45)"
   ]
  },
  {
   "cell_type": "markdown",
   "metadata": {},
   "source": [
    "# Strings"
   ]
  },
  {
   "cell_type": "code",
   "execution_count": 51,
   "metadata": {},
   "outputs": [
    {
     "name": "stdout",
     "output_type": "stream",
     "text": [
      "Enter any string you would likeJay\n",
      "yaJ\n"
     ]
    }
   ],
   "source": [
    "def rev(str):\n",
    "    help=\"\"\n",
    "    if len(str)==0:\n",
    "        return help\n",
    "    else:\n",
    "        help=str[-1]\n",
    "        return help+rev(str[:-1])\n",
    "    \n",
    "str=input(\"Enter any string you would like\")\n",
    "inlist=list(str)\n",
    "print(rev(str))"
   ]
  },
  {
   "cell_type": "markdown",
   "metadata": {},
   "source": [
    "# Lists in Python"
   ]
  },
  {
   "cell_type": "code",
   "execution_count": 6,
   "metadata": {},
   "outputs": [
    {
     "name": "stdout",
     "output_type": "stream",
     "text": [
      "[1, 12, 34, 45, 67, 89, 90]\n",
      "(False, 0)\n"
     ]
    }
   ],
   "source": [
    "def binarySearch(li,l,h,key):\n",
    "    if li[0]>key or li[h]<key:\n",
    "        return False,0\n",
    "    while True:\n",
    "        mid=(l+h)//2\n",
    "        if li[mid]==key:\n",
    "            return mid,True\n",
    "        elif l==h:\n",
    "            return False,-1\n",
    "        if li[mid]<key:\n",
    "            l=mid+1\n",
    "        else:\n",
    "            h=mid-1\n",
    "    \n",
    "li=[34,45,67,89,1,700]\n",
    "li.append(90)\n",
    "li.insert(1,12)\n",
    "li.remove(max(li))\n",
    "li.sort()\n",
    "print(li)\n",
    "print(binarySearch(li,0,len(li)-1,-1))"
   ]
  },
  {
   "cell_type": "markdown",
   "metadata": {},
   "source": [
    "# GDC()"
   ]
  },
  {
   "cell_type": "code",
   "execution_count": 8,
   "metadata": {},
   "outputs": [
    {
     "name": "stdout",
     "output_type": "stream",
     "text": [
      "12\n"
     ]
    }
   ],
   "source": [
    "def gcd(a,b):\n",
    "    if b==0:\n",
    "        return a\n",
    "    return gcd(b,a%b)\n",
    "print(gcd(24,12))"
   ]
  },
  {
   "cell_type": "markdown",
   "metadata": {},
   "source": [
    "# Back On Lists Comprehensio"
   ]
  },
  {
   "cell_type": "code",
   "execution_count": 9,
   "metadata": {},
   "outputs": [
    {
     "data": {
      "text/plain": [
       "[2, 6, 12, 16]"
      ]
     },
     "execution_count": 9,
     "metadata": {},
     "output_type": "execute_result"
    }
   ],
   "source": [
    "li=[1,3,6,8]\n",
    "arr=[i*2 for i in li]\n",
    "arr"
   ]
  },
  {
   "cell_type": "markdown",
   "metadata": {},
   "source": [
    "# Tuple"
   ]
  },
  {
   "cell_type": "code",
   "execution_count": 22,
   "metadata": {},
   "outputs": [
    {
     "name": "stdout",
     "output_type": "stream",
     "text": [
      "(23, 78)\n"
     ]
    },
    {
     "data": {
      "text/plain": [
       "[23, 78]"
      ]
     },
     "execution_count": 22,
     "metadata": {},
     "output_type": "execute_result"
    }
   ],
   "source": [
    "# in order to cotrol, let me furst have a list then I will keep its values in tuple then delete list\n",
    "li=list()\n",
    "li.append(23)\n",
    "li.append(78)\n",
    "\n",
    "tup=tuple(li)\n",
    "print(tup)\n",
    "li.clear()\n",
    "li=list(tup)\n",
    "li\n"
   ]
  },
  {
   "cell_type": "markdown",
   "metadata": {},
   "source": [
    "# Sets data structure in python"
   ]
  }
 ],
 "metadata": {
  "kernelspec": {
   "display_name": "Python 3",
   "language": "python",
   "name": "python3"
  },
  "language_info": {
   "codemirror_mode": {
    "name": "ipython",
    "version": 3
   },
   "file_extension": ".py",
   "mimetype": "text/x-python",
   "name": "python",
   "nbconvert_exporter": "python",
   "pygments_lexer": "ipython3",
   "version": "3.8.5"
  }
 },
 "nbformat": 4,
 "nbformat_minor": 4
}
