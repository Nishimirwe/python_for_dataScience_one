{
 "cells": [
  {
   "cell_type": "code",
   "execution_count": 4,
   "metadata": {},
   "outputs": [
    {
     "name": "stdout",
     "output_type": "stream",
     "text": [
      "90\n",
      "34\n"
     ]
    }
   ],
   "source": [
    "# shift + enter = run cell\n",
    "# esc (put in command mode) the press \"b\" = add cell below\n",
    "# esc (put in command mode) the press \"dd\" = delete cell below\n",
    "li=[90,34,23]\n",
    "for i in li:\n",
    "    if i%2==0:\n",
    "        print(i)"
   ]
  },
  {
   "cell_type": "markdown",
   "metadata": {},
   "source": [
    "# Learning basic\n",
    "<center>I am here watching</center>"
   ]
  },
  {
   "cell_type": "code",
   "execution_count": 13,
   "metadata": {},
   "outputs": [
    {
     "name": "stdout",
     "output_type": "stream",
     "text": [
      "{1: 3}\n"
     ]
    }
   ],
   "source": [
    "car =dict()\n",
    "\n",
    "car.update({1: 3})\n",
    "\n",
    "print(car) "
   ]
  },
  {
   "cell_type": "code",
   "execution_count": 20,
   "metadata": {},
   "outputs": [
    {
     "name": "stdout",
     "output_type": "stream",
     "text": [
      "3+7=10\n",
      "<class 'int'>\n",
      "Enter number to find its square3\n",
      "27\n"
     ]
    }
   ],
   "source": [
    "a=3\n",
    "b=7\n",
    "c=a+b\n",
    "print(f\"{a}+{b}={c}\")\n",
    "print(type(a))\n",
    "\n",
    "x=int(input(\"Enter number to find its square\"))\n",
    "print(x**x)"
   ]
  },
  {
   "cell_type": "markdown",
   "metadata": {},
   "source": [
    "# New Loop Skills of specifying i++ or i+value"
   ]
  },
  {
   "cell_type": "code",
   "execution_count": 26,
   "metadata": {},
   "outputs": [
    {
     "name": "stdout",
     "output_type": "stream",
     "text": [
      "1 : 3 : 5 : 7 : 9 : 11 : 13 : 15 : 17 : 19 : 21 : 23 : 25 : 27 : 29 : 31 : 33 : 35 : 37 : 39 : 41 : 43 : 45 : 47 : 49 : "
     ]
    }
   ],
   "source": [
    "# I am going to only print odd numbers from 1 to 50\n",
    "for i in range(1,51,2):\n",
    "    print(f\"{i} : \",end='')"
   ]
  },
  {
   "cell_type": "markdown",
   "metadata": {},
   "source": [
    "# Remainder about finding the square root of a number\n",
    "- Make it to the power of 0.5\n",
    "- I am gon try power of 1/2\n",
    "    - They all work perfectly"
   ]
  },
  {
   "cell_type": "code",
   "execution_count": 33,
   "metadata": {},
   "outputs": [
    {
     "name": "stdout",
     "output_type": "stream",
     "text": [
      "3\n",
      "45\n"
     ]
    }
   ],
   "source": [
    "def sqrt(n):\n",
    "    return int(n**(1/2))\n",
    "print(sqrt(9))\n",
    "print(5 and 4 and 1 and 45)"
   ]
  },
  {
   "cell_type": "markdown",
   "metadata": {},
   "source": [
    "# Strings"
   ]
  },
  {
   "cell_type": "code",
   "execution_count": 51,
   "metadata": {},
   "outputs": [
    {
     "name": "stdout",
     "output_type": "stream",
     "text": [
      "Enter any string you would likeJay\n",
      "yaJ\n"
     ]
    }
   ],
   "source": [
    "def rev(str):\n",
    "    help=\"\"\n",
    "    if len(str)==0:\n",
    "        return help\n",
    "    else:\n",
    "        help=str[-1]\n",
    "        return help+rev(str[:-1])\n",
    "    \n",
    "str=input(\"Enter any string you would like\")\n",
    "inlist=list(str)\n",
    "print(rev(str))"
   ]
  },
  {
   "cell_type": "markdown",
   "metadata": {},
   "source": [
    "# Lists in Python"
   ]
  },
  {
   "cell_type": "code",
   "execution_count": 6,
   "metadata": {},
   "outputs": [
    {
     "name": "stdout",
     "output_type": "stream",
     "text": [
      "[1, 12, 34, 45, 67, 89, 90]\n",
      "(False, 0)\n"
     ]
    }
   ],
   "source": [
    "def binarySearch(li,l,h,key):\n",
    "    if li[0]>key or li[h]<key:\n",
    "        return False,0\n",
    "    while True:\n",
    "        mid=(l+h)//2\n",
    "        if li[mid]==key:\n",
    "            return mid,True\n",
    "        elif l==h:\n",
    "            return False,-1\n",
    "        if li[mid]<key:\n",
    "            l=mid+1\n",
    "        else:\n",
    "            h=mid-1\n",
    "    \n",
    "li=[34,45,67,89,1,700]\n",
    "li.append(90)\n",
    "li.insert(1,12)\n",
    "li.remove(max(li))\n",
    "li.sort()\n",
    "print(li)\n",
    "print(binarySearch(li,0,len(li)-1,-1))"
   ]
  },
  {
   "cell_type": "markdown",
   "metadata": {},
   "source": [
    "# GDC()"
   ]
  },
  {
   "cell_type": "code",
   "execution_count": 8,
   "metadata": {},
   "outputs": [
    {
     "name": "stdout",
     "output_type": "stream",
     "text": [
      "12\n"
     ]
    }
   ],
   "source": [
    "def gcd(a,b):\n",
    "    if b==0:\n",
    "        return a\n",
    "    return gcd(b,a%b)\n",
    "print(gcd(24,12))"
   ]
  },
  {
   "cell_type": "markdown",
   "metadata": {},
   "source": [
    "# Back On Lists Comprehension"
   ]
  },
  {
   "cell_type": "code",
   "execution_count": 9,
   "metadata": {},
   "outputs": [
    {
     "data": {
      "text/plain": [
       "[2, 6, 12, 16]"
      ]
     },
     "execution_count": 9,
     "metadata": {},
     "output_type": "execute_result"
    }
   ],
   "source": [
    "li=[1,3,6,8]\n",
    "arr=[i*2 for i in li]\n",
    "arr"
   ]
  },
  {
   "cell_type": "markdown",
   "metadata": {},
   "source": [
    "# Tuple\n",
    "    - Tuples are much like lists, the only difference is that tuple is immutabel, thus it is faster than list"
   ]
  },
  {
   "cell_type": "code",
   "execution_count": 65,
   "metadata": {},
   "outputs": [
    {
     "data": {
      "text/plain": [
       "True"
      ]
     },
     "execution_count": 65,
     "metadata": {},
     "output_type": "execute_result"
    }
   ],
   "source": [
    "a = [1,5,3,2,4,3,2,5]\n",
    "b = [5,3,4,2,1]\n",
    "\n",
    "set(a) == set(b)\n",
    "\n"
   ]
  },
  {
   "cell_type": "markdown",
   "metadata": {},
   "source": [
    "# Sets data structure in python\n",
    "    - An important property of sets is that, sets are immutable too, just like tuple\n",
    "    - Set also contains unique elements"
   ]
  },
  {
   "cell_type": "code",
   "execution_count": 39,
   "metadata": {},
   "outputs": [
    {
     "name": "stdout",
     "output_type": "stream",
     "text": [
      "{90, 34}\n"
     ]
    }
   ],
   "source": [
    "li=[90,34,34]\n",
    "s=set(li)\n",
    "print(s)"
   ]
  },
  {
   "cell_type": "markdown",
   "metadata": {},
   "source": [
    "# Dictionary data structure\n"
   ]
  },
  {
   "cell_type": "code",
   "execution_count": 56,
   "metadata": {},
   "outputs": [
    {
     "name": "stdout",
     "output_type": "stream",
     "text": [
      "Name : Jean Paul Here\n",
      "Lover : Josiane Here\n",
      "Age : 26 Here\n"
     ]
    },
    {
     "data": {
      "text/plain": [
       "{'Name': 'Mwizerwa', 'Lover': 'Josiane', 'Age': 24}"
      ]
     },
     "execution_count": 56,
     "metadata": {},
     "output_type": "execute_result"
    }
   ],
   "source": [
    "d={\"Name\":\"Jean Paul\",\"Lover\":\"Josiane\",\"Age\":24}\n",
    "\n",
    "for i,j in d.items():\n",
    "    if i==\"Age\":\n",
    "        j+=2\n",
    "    print(f\"{i} : {j} Here\")\n",
    "\n",
    "d[\"Name\"]=\"Mwizerwa\"\n",
    "d"
   ]
  },
  {
   "cell_type": "code",
   "execution_count": 62,
   "metadata": {},
   "outputs": [
    {
     "name": "stdout",
     "output_type": "stream",
     "text": [
      "{'Jean': 1, 'Jojo': 2}\n"
     ]
    }
   ],
   "source": [
    "import sys\n",
    "def revDict(d):\n",
    "    help=dict()\n",
    "    keys=[i for i in d.keys()]\n",
    "    values=[j for j in d.values()]\n",
    "    for f in range(len(keys)):\n",
    "        help[values[f]]=keys[f]\n",
    "    d=help\n",
    "    return d\n",
    "keys = [1,2]\n",
    "values = [\"Jean\",\"Jojo\"]\n",
    "\n",
    "dic = dict()\n",
    "for i in range(len(keys)):\n",
    "    dic[keys[i]] = values[i]\n",
    "    \n",
    "\n",
    "# Write your logic Here\n",
    "print(revDict(dic))"
   ]
  },
  {
   "cell_type": "code",
   "execution_count": 71,
   "metadata": {},
   "outputs": [
    {
     "data": {
      "text/plain": [
       "[2, 3, 4, 5, 1, 2, 3, 4, 5]"
      ]
     },
     "execution_count": 71,
     "metadata": {},
     "output_type": "execute_result"
    }
   ],
   "source": [
    "lst1 = [2,3,4,5]\n",
    "lst2 = [1,2,3,4,5]\n",
    "\n",
    "result = lst1 + lst2\n",
    "result"
   ]
  },
  {
   "cell_type": "code",
   "execution_count": 72,
   "metadata": {},
   "outputs": [
    {
     "name": "stdout",
     "output_type": "stream",
     "text": [
      "A B C D "
     ]
    }
   ],
   "source": [
    "d = { 1 : 'A', 2 : 'B', 3 : 'C'}\n",
    "for k in range(1,5):\n",
    "    print(d.get(k,'D') , end=\" \")"
   ]
  },
  {
   "cell_type": "markdown",
   "metadata": {},
   "source": [
    "# Functions"
   ]
  },
  {
   "cell_type": "code",
   "execution_count": 83,
   "metadata": {},
   "outputs": [
    {
     "name": "stdout",
     "output_type": "stream",
     "text": [
      "(45, 67)\n",
      "1\n"
     ]
    }
   ],
   "source": [
    "def fun(*args):\n",
    "    print(args)\n",
    "fun(45,67)\n",
    "\n",
    "def fuc1(**kwargs):\n",
    "    for i in kwargs.values():\n",
    "        print(i)\n",
    "\n",
    "d={\"a\":1,\"b\":2}\n",
    "fuc1(a=1)"
   ]
  },
  {
   "cell_type": "code",
   "execution_count": 106,
   "metadata": {},
   "outputs": [
    {
     "data": {
      "text/plain": [
       "[]"
      ]
     },
     "execution_count": 106,
     "metadata": {},
     "output_type": "execute_result"
    }
   ],
   "source": [
    "def isEven(n):\n",
    "    return int(round(n/5,0))==0\n",
    "    \n",
    "li=[4,5,8,12,13,125]\n",
    "filter_ele=list(filter(isEven,li))\n",
    "filter_ele.sort()\n",
    "filter_ele"
   ]
  },
  {
   "cell_type": "code",
   "execution_count": 108,
   "metadata": {},
   "outputs": [
    {
     "name": "stdout",
     "output_type": "stream",
     "text": [
      "*\n",
      "**\n",
      "***\n",
      "****\n",
      "*****\n",
      "******\n",
      "*******\n",
      "********\n",
      "*********\n"
     ]
    }
   ],
   "source": [
    "def pattern(n):\n",
    "    # ===Write your code Here=== #\n",
    "    for i in range(1,n+1):\n",
    "        for j in range(i):\n",
    "            print(f\"*\",end='')\n",
    "        print()\n",
    "    \n",
    "    \n",
    "    # ===Code end=== #\n",
    "    \n",
    "pattern(9)"
   ]
  },
  {
   "cell_type": "code",
   "execution_count": 109,
   "metadata": {},
   "outputs": [
    {
     "name": "stdout",
     "output_type": "stream",
     "text": [
      "[11, 13, 17, 19]\n"
     ]
    }
   ],
   "source": [
    "def prime(a):\n",
    "    for i in range(2,a):\n",
    "        if a%i==0:\n",
    "            return False\n",
    "    return True\n",
    "def find_primes(a,b):\n",
    "    #=== Write code here ===#\n",
    "    values=[i for i in range(a,b+1)]\n",
    "    primes=list(filter(prime,values))\n",
    "    return primes\n",
    "\n",
    "print(find_primes(10,20))"
   ]
  },
  {
   "cell_type": "markdown",
   "metadata": {},
   "source": [
    "# In built functions\n",
    "- math (import math)\n",
    "- random (random numbers)\n",
    "- os (operating system)"
   ]
  },
  {
   "cell_type": "code",
   "execution_count": 132,
   "metadata": {},
   "outputs": [
    {
     "name": "stdout",
     "output_type": "stream",
     "text": [
      "3381\n"
     ]
    }
   ],
   "source": [
    "import math\n",
    "import random\n",
    "\n",
    "print(math.ceil(random.random()*10000+10))"
   ]
  },
  {
   "cell_type": "code",
   "execution_count": 144,
   "metadata": {},
   "outputs": [
    {
     "data": {
      "text/plain": [
       "'D:\\\\LESSONS\\\\CODING\\\\PYTHON\\\\PYTHON FOR DATA SCIENCE ONE\\\\Jupyter overview'"
      ]
     },
     "execution_count": 144,
     "metadata": {},
     "output_type": "execute_result"
    }
   ],
   "source": [
    "import os\n",
    "\n",
    "os.getcwd()\n"
   ]
  },
  {
   "cell_type": "code",
   "execution_count": 16,
   "metadata": {},
   "outputs": [
    {
     "data": {
      "text/plain": [
       "16"
      ]
     },
     "execution_count": 16,
     "metadata": {},
     "output_type": "execute_result"
    }
   ],
   "source": [
    "from paulmodule import *\n",
    "fib(3)\n",
    "paulmodule.power(2,3)"
   ]
  },
  {
   "cell_type": "code",
   "execution_count": 1,
   "metadata": {},
   "outputs": [
    {
     "name": "stdout",
     "output_type": "stream",
     "text": [
      "3\n"
     ]
    }
   ],
   "source": [
    "import functools\n",
    "lst = [0,-2,1,4]\n",
    "print(functools.reduce(lambda x,y:x+y,lst))"
   ]
  },
  {
   "cell_type": "code",
   "execution_count": 7,
   "metadata": {},
   "outputs": [
    {
     "name": "stdout",
     "output_type": "stream",
     "text": [
      "Node is declared\n",
      "45\n"
     ]
    }
   ],
   "source": [
    "from paulmodule import *\n",
    "\n",
    "node=Node(45)\n",
    "node.show()"
   ]
  },
  {
   "cell_type": "code",
   "execution_count": 8,
   "metadata": {},
   "outputs": [
    {
     "name": "stdout",
     "output_type": "stream",
     "text": [
      "B\n"
     ]
    }
   ],
   "source": [
    "class A:\n",
    "    def one(self):\n",
    "        return self.two()    \t\n",
    "    def two(self):\n",
    "        return 'A'   \n",
    "class B(A):\n",
    "    def two(self):\n",
    "        return 'B'\n",
    "obj2=B()\n",
    "print(obj2.one())"
   ]
  },
  {
   "cell_type": "code",
   "execution_count": null,
   "metadata": {},
   "outputs": [],
   "source": []
  }
 ],
 "metadata": {
  "kernelspec": {
   "display_name": "Python 3",
   "language": "python",
   "name": "python3"
  },
  "language_info": {
   "codemirror_mode": {
    "name": "ipython",
    "version": 3
   },
   "file_extension": ".py",
   "mimetype": "text/x-python",
   "name": "python",
   "nbconvert_exporter": "python",
   "pygments_lexer": "ipython3",
   "version": "3.8.5"
  }
 },
 "nbformat": 4,
 "nbformat_minor": 4
}
