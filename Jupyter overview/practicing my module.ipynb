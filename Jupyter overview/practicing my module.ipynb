{
 "cells": [
  {
   "cell_type": "code",
   "execution_count": 1,
   "metadata": {},
   "outputs": [
    {
     "name": "stdout",
     "output_type": "stream",
     "text": [
      "\n",
      "\n",
      "paulmodule is imported\n",
      "\n",
      "\n",
      "Strings\n",
      "\n",
      "\n",
      "Capitalize a string: string.upper()\n",
      "Lower a string: string.lower()\n",
      "\n",
      "\n",
      "Lists\n",
      "\n",
      "\n",
      "Sorting a list Ascending order: list.sort()\n",
      "Sroting a list Descending order: list.sort(reverse=True)\n",
      "Reversing a string: list.reverse()\n",
      "Adding new element in a list: list.append(value)\n",
      "Inserting a new Element at a certain position: list.insert(position,value)\n"
     ]
    }
   ],
   "source": [
    "from paulmodule import *\n",
    "\n",
    "showHelp()"
   ]
  },
  {
   "cell_type": "code",
   "execution_count": null,
   "metadata": {},
   "outputs": [],
   "source": []
  }
 ],
 "metadata": {
  "kernelspec": {
   "display_name": "Python 3",
   "language": "python",
   "name": "python3"
  },
  "language_info": {
   "codemirror_mode": {
    "name": "ipython",
    "version": 3
   },
   "file_extension": ".py",
   "mimetype": "text/x-python",
   "name": "python",
   "nbconvert_exporter": "python",
   "pygments_lexer": "ipython3",
   "version": "3.8.5"
  }
 },
 "nbformat": 4,
 "nbformat_minor": 4
}
