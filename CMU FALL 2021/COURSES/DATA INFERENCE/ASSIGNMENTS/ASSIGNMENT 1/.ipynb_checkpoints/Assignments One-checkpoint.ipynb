{
 "cells": [
  {
   "cell_type": "markdown",
   "metadata": {},
   "source": [
    "## Assignment 1"
   ]
  },
  {
   "cell_type": "markdown",
   "metadata": {},
   "source": [
    "###### Sub One"
   ]
  },
  {
   "cell_type": "code",
   "execution_count": 34,
   "metadata": {},
   "outputs": [
    {
     "name": "stdout",
     "output_type": "stream",
     "text": [
      "24\n"
     ]
    }
   ],
   "source": [
    "\"\"\"\n",
    "I folded a paper again and again and take the current length of\n",
    "the folded paper, keep comparing to the length of the mountain until\n",
    "paper length exceeds the length of the mountain. Once this happens,\n",
    "I return that folds that I have folded.\n",
    "\n",
    "\"\"\"\n",
    "\n",
    "def number_of_folds(m):\n",
    "    mm=int(m*1000)\n",
    "    assert mm>0,'Value should be greater than 0'\n",
    "    for fold in range(mm):\n",
    "        if(2**fold>mm):\n",
    "            return fold\n",
    "    return fold+1\n",
    "\n",
    "print(number_of_folds(8484))"
   ]
  },
  {
   "cell_type": "markdown",
   "metadata": {},
   "source": [
    "##### Sub Two\n",
    "- I think done, but I will review it"
   ]
  },
  {
   "cell_type": "code",
   "execution_count": 3,
   "metadata": {},
   "outputs": [
    {
     "name": "stdout",
     "output_type": "stream",
     "text": [
      "7\n"
     ]
    }
   ],
   "source": [
    "\"\"\"\n",
    "DEDUCE A FORMULA FROM A GIVEN DATA\n",
    "\n",
    "v(t)=v(0)*exp(-a*t) #where a=0.1 and v(t)=v(0)/2\n",
    "v(0)/2=v(0)*exp(-0.1*t) => v(0)/v(0)*2=exp(-0.1*t ) => 1/2=exp(-0.1*t)\n",
    "From this formula, it was obvious to me that ln(1/2)=-0.1*t. So\n",
    "t=ln(1/2)/(-0.1)\n",
    "\n",
    "\"\"\"\n",
    "\n",
    "import math\n",
    "\n",
    "time=round(math.log(1/2)/(-0.1))\n",
    "\n",
    "print(time)"
   ]
  },
  {
   "cell_type": "markdown",
   "metadata": {},
   "source": [
    "###### Sub 3"
   ]
  },
  {
   "cell_type": "code",
   "execution_count": 33,
   "metadata": {},
   "outputs": [
    {
     "name": "stdout",
     "output_type": "stream",
     "text": [
      "After 1 Year:  $105\n",
      "After 2 Years: $110\n",
      "After 3 Years: $116\n",
      "After 4 Years: $122\n",
      "After 5 Years: $128\n"
     ]
    }
   ],
   "source": [
    "\"\"\"The question is, if a bank give annual interest of 5% (compound interest) of money you deposited, and you deposit $100,\n",
    "   How much money will you have after some N years.\n",
    "   \n",
    "   --------------APPROACH-------------------\n",
    "   \n",
    "   I am going to code a function called \"calculateTotal(money, interest, years) WHERE\n",
    "   money: money deposited\n",
    "   interest: annual interest (e.g: if interest is 5%, interest argument will be 5)\n",
    "   years: after how many years\n",
    "   \n",
    "   \n",
    "   This function will return a rounded total money after entered years using enetered interest percent\n",
    "   \n",
    "   Here we go\n",
    "   \n",
    "\"\"\"\n",
    "def calculateTotal(money, interest, years):\n",
    "    total=money\n",
    "    for i in range(years):\n",
    "        total=(total+(total*interest/100)) # For each year, I take money that I have so far and add its interest on my account\n",
    "    return round(total) #I am returning total money I will be having at the end of years passed in\n",
    "\n",
    "print(f\"After 1 Year:  ${calculateTotal(100,5,1)}\")\n",
    "print(f\"After 2 Years: ${calculateTotal(100,5,2)}\")\n",
    "print(f\"After 3 Years: ${calculateTotal(100,5,3)}\")\n",
    "print(f\"After 4 Years: ${calculateTotal(100,5,4)}\")\n",
    "print(f\"After 5 Years: ${calculateTotal(100,5,5)}\")"
   ]
  },
  {
   "cell_type": "markdown",
   "metadata": {},
   "source": [
    "#### Sub 4"
   ]
  },
  {
   "cell_type": "code",
   "execution_count": 17,
   "metadata": {},
   "outputs": [
    {
     "name": "stdout",
     "output_type": "stream",
     "text": [
      "In 1 Year:  $1777\n",
      "In 2 Years: $941\n",
      "In 3 Years: $664\n"
     ]
    }
   ],
   "source": [
    "\"\"\"\n",
    "   P=((r*PV)/(((1-(1+r)**-n))))\n",
    "   where p: Payment money\n",
    "         PV: Present Value (Money borrowed)\n",
    "         r=rate per month\n",
    "         n=number of months\n",
    "\"\"\"\n",
    "\n",
    "def getMonthlyPayment(loan,interest, years):\n",
    "    months=years*12\n",
    "    r=(interest/100)\n",
    "    pv=loan\n",
    "    n=months\n",
    "    p=((r*pv)/(((1-(1+r)**-n))))\n",
    "    return round(p)\n",
    "    \n",
    "print(f\"In 1 Year:  ${getMonthlyPayment(20000,1,1)}\")\n",
    "print(f\"In 2 Years: ${getMonthlyPayment(20000,1,2)}\")\n",
    "print(f\"In 3 Years: ${getMonthlyPayment(20000,1,3)}\")\n"
   ]
  },
  {
   "cell_type": "markdown",
   "metadata": {},
   "source": [
    "#### Sub 5"
   ]
  },
  {
   "cell_type": "code",
   "execution_count": 3,
   "metadata": {},
   "outputs": [
    {
     "name": "stdout",
     "output_type": "stream",
     "text": [
      "Number of days:  70\n"
     ]
    },
    {
     "data": {
      "image/png": "[encoded data removed]",
      "text/plain": [
       "<Figure size 432x288 with 1 Axes>"
      ]
     },
     "metadata": {
      "needs_background": "light"
     },
     "output_type": "display_data"
    }
   ],
   "source": [
    "\"\"\"\n",
    "For this problem, I assumed that all customers that you have will generate profit\n",
    "everyday.\n",
    "\"\"\"\n",
    "import matplotlib.pyplot as plt\n",
    "\n",
    "def getdayAndPlot(invest):\n",
    "    customers=100\n",
    "    cash=customers*10\n",
    "    days=1\n",
    "    cashList=[]\n",
    "    d=[]\n",
    "    while cash<invest:\n",
    "        days+=1\n",
    "        d.append(days)\n",
    "        customers=customers+(customers*1/100)\n",
    "        cash=cash+(customers*10)\n",
    "        cashList.append(cash)\n",
    "    plt.plot(d,cashList)\n",
    "    plt.plot(d[-1],cashList[-1], 'ro')\n",
    "    plt.xlabel('Days', color='green')\n",
    "    plt.ylabel('Profit', color='green')\n",
    "    plt.title(\"Profits\")\n",
    "    plt.legend\n",
    "    plt.show\n",
    "    return days\n",
    "\n",
    "print(\"Number of days: \",getdayAndPlot(100000))\n",
    "\n",
    "\n",
    "#x=days\n",
    "#y=cash\n",
    "\n"
   ]
  },
  {
   "cell_type": "markdown",
   "metadata": {},
   "source": [
    "# Question 6"
   ]
  },
  {
   "cell_type": "code",
   "execution_count": 1,
   "metadata": {},
   "outputs": [
    {
     "data": {
      "image/png": "[encoded data removed]",
      "text/plain": [
       "<Figure size 432x288 with 1 Axes>"
      ]
     },
     "metadata": {
      "needs_background": "light"
     },
     "output_type": "display_data"
    },
    {
     "name": "stdout",
     "output_type": "stream",
     "text": [
      "Dates for Cases: \n",
      "2014-03-27 00:00:00\n",
      "2014-06-13 00:00:00\n",
      "2014-07-15 00:00:00\n",
      "2014-08-12 00:00:00\n",
      "2014-09-12 00:00:00\n",
      "\n",
      "Dates for Death: \n",
      "2014-04-06 00:00:00\n",
      "2014-07-05 00:00:00\n",
      "2014-08-09 00:00:00\n",
      "2014-09-03 00:00:00\n",
      "2014-10-24 00:00:00\n"
     ]
    }
   ],
   "source": [
    "import pandas as pd\n",
    "import matplotlib.pyplot as plt\n",
    "data=pd.read_excel('./ebola_download.xls')\n",
    "\n",
    "idx=pd.date_range(min(data.Date),max(data.Date))\n",
    "newData=data.set_index('Date').reindex(idx)\n",
    "newData=newData.interpolate(method='linear')\n",
    "\n",
    "cases_datesList=[]\n",
    "death_datesList=[]\n",
    "casesList=[]\n",
    "deathList=[]\n",
    "\n",
    "values=[100,500,1000,2000,5000]\n",
    "for data in values:\n",
    "    cases_above= newData[newData['Cases']>data]\n",
    "    death_above= newData[newData['Death']>data]\n",
    "    cases_datesList.append(cases_above.index[0])\n",
    "    death_datesList.append(death_above.index[0])\n",
    "    casesList.append(cases_above['Cases'][0])\n",
    "    deathList.append(death_above['Death'][0])\n",
    "\n",
    "plt.plot(newData['Cases'], color='blue', label='Cases')\n",
    "plt.plot(newData['Death'], color='red', label='Death')\n",
    "# plt.plot(cases_datesList,casesList, color='blue', label='Cases')\n",
    "# plt.plot(death_datesList,deathList, color='red', label='Death')\n",
    "plt.plot(cases_datesList,casesList,'ro')\n",
    "plt.plot(death_datesList,deathList,'bo')\n",
    "plt.legend()\n",
    "plt.xticks(rotation=30)\n",
    "plt.show()\n",
    "\n",
    "print(\"Dates for Cases: \")\n",
    "for i in cases_datesList:\n",
    "    print(i)\n",
    "print()\n",
    "print(\"Dates for Death: \")\n",
    "for i in death_datesList:\n",
    "    print(i)"
   ]
  },
  {
   "cell_type": "markdown",
   "metadata": {},
   "source": [
    "# Question 7"
   ]
  },
  {
   "cell_type": "code",
   "execution_count": 26,
   "metadata": {},
   "outputs": [
    {
     "name": "stdout",
     "output_type": "stream",
     "text": [
      "Average rate for cases 2.5065218916499963\n",
      "Average rate for deaths: 2.330608083367968\n"
     ]
    }
   ],
   "source": [
    "# ((67-49)/49)*100\n",
    "# ((max-min) /min)*100\n",
    "\n",
    "# Loop in Cases col then apply the formula\n",
    "def casesGrowthRate():\n",
    "    list_of_cases=list(newData['Cases'])\n",
    "    list_of_growth_rate=[]\n",
    "    for i in range(len(list_of_cases)-1):\n",
    "        list_of_growth_rate.append(((list_of_cases[i+1] - list_of_cases[i])/list_of_cases[i])*100)\n",
    "    return sum(list_of_growth_rate)/len(list_of_growth_rate)\n",
    "\n",
    "#  Do the same for deaths\n",
    "def deathsGrowthRate():\n",
    "    list_of_deaths=list(newData['Death'])\n",
    "    list_of_growth_rate=[]\n",
    "    for i in range(len(list_of_deaths)-1):\n",
    "        list_of_growth_rate.append(((list_of_deaths[i+1] - list_of_deaths[i])/list_of_deaths[i])*100)\n",
    "    return sum(list_of_growth_rate)/len(list_of_growth_rate) # return list of growth rates\n",
    "\n",
    "print(f\"Average rate for cases {casesGrowthRate()}\")\n",
    "print(f\"Average rate for deaths: {deathsGrowthRate()}\")"
   ]
  },
  {
   "cell_type": "markdown",
   "metadata": {},
   "source": [
    "# Question 8"
   ]
  },
  {
   "cell_type": "code",
   "execution_count": 37,
   "metadata": {},
   "outputs": [
    {
     "data": {
      "image/png": "[encoded data removed]",
      "text/plain": [
       "<Figure size 432x288 with 1 Axes>"
      ]
     },
     "metadata": {
      "needs_background": "light"
     },
     "output_type": "display_data"
    },
    {
     "name": "stdout",
     "output_type": "stream",
     "text": [
      "Average Ratio: 0.5577992908998354\n"
     ]
    }
   ],
   "source": [
    "import matplotlib.pyplot as plt\n",
    "# Use same data, plot Death to Y axis, and Cases to X Axis.\n",
    "\n",
    "# From above question Q6 & Q7, I have interpolated data stored in \"newData\" variable, let me use it\n",
    "ratios=list()\n",
    "for i in range(len(newData['Cases'])):\n",
    "    ratios.append(list(newData['Death'])[i]/list(newData['Cases'])[i])\n",
    "avg_ratio=sum(ratios)/len(ratios)\n",
    "\n",
    "plt.plot(list(newData['Cases']),list(newData['Death']), color='blue')\n",
    "plt.xlabel(\"Cases\", color='green')\n",
    "plt.ylabel(\"Deaths\", color='green')\n",
    "plt.show()\n",
    "\n",
    "print(f\"Average Ratio: {avg_ratio}\")\n"
   ]
  },
  {
   "cell_type": "markdown",
   "metadata": {},
   "source": [
    "# Question 9"
   ]
  },
  {
   "cell_type": "code",
   "execution_count": 38,
   "metadata": {},
   "outputs": [
    {
     "data": {
      "image/png": "[encoded data removed]",
      "text/plain": [
       "<Figure size 432x288 with 1 Axes>"
      ]
     },
     "metadata": {
      "needs_background": "light"
     },
     "output_type": "display_data"
    }
   ],
   "source": [
    "import pandas as pd\n",
    "import matplotlib.pyplot as plt\n",
    "\n",
    "spy_data=pd.read_csv('./SPY.csv')\n",
    "tlt_data=pd.read_csv('./TLT.csv')\n",
    "\n",
    "# function to help me start from 100\n",
    "def start100(f,i):\n",
    "    return ((i/f)*100)\n",
    "    \n",
    "# ectract data from spy data\n",
    "spy_data_for_date_given=spy_data[(spy_data['Date']>= '2014-01-01') & (spy_data['Date']<= '2015-08-31')]\n",
    "spy_adjusted_closing_prices=[start100(list(spy_data_for_date_given['Adj Close'])[0],i) for i in list(spy_data_for_date_given['Adj Close'])]\n",
    "spy_dates=spy_data[(spy_data['Date']>= '2014-01-01') & (spy_data['Date']<= '2015-08-31')]['Date']\n",
    "\n",
    "# get data from tlt\n",
    "tlt_data_for_date_given=tlt_data[(tlt_data['Date']>= '2014-01-01') & (tlt_data['Date']<= '2015-08-31')]\n",
    "tlt_adjusted_closing_prices=[start100(list(tlt_data_for_date_given['Adj Close'])[0],i) for i in list(tlt_data_for_date_given['Adj Close'])]\n",
    "tlt_dates=tlt_data[(tlt_data['Date']>= '2014-01-01') & (tlt_data['Date']<= '2015-08-31')]['Date']\n",
    "\n",
    "#  Data from day one\n",
    "plt.plot(spy_dates,tlt_adjusted_closing_prices,color='red', label='TLT')\n",
    "plt.plot(tlt_dates,spy_adjusted_closing_prices,color='blue', label='SPY')\n",
    "plt.legend()\n",
    "plt.xticks(rotation=20)\n",
    "plt.show()\n"
   ]
  },
  {
   "cell_type": "markdown",
   "metadata": {},
   "source": [
    "# Question 10"
   ]
  },
  {
   "cell_type": "code",
   "execution_count": 144,
   "metadata": {
    "scrolled": true
   },
   "outputs": [
    {
     "name": "stdout",
     "output_type": "stream",
     "text": [
      "SPY_AVERAGE : 0.02861226654002756\n",
      "TLT_AVERAGE : 0.055378497665034596\n",
      "SPY_MAX     : 3.839371960231941\n",
      "TLT_MAX     : 2.6468916582609303\n",
      "SPY_MIN     : -4.2106781665589015\n",
      "TLT_MIN     : -2.4324722414521993\n"
     ]
    }
   ],
   "source": [
    "spy_ps=[]\n",
    "tlt_ps=[]\n",
    "ss=0\n",
    "st=0\n",
    "data_spy=list(spy_data_for_date_given['Adj Close'])\n",
    "data_tlt=list(tlt_data_for_date_given['Adj Close'])\n",
    "for i in range(len(data_spy)):\n",
    "    if i!= 0:\n",
    "        spy_ps.append((data_spy[i]/data_spy[i-1]) -1 ) # r(t)=p(t)/p(t-1)-1\n",
    "        ss+=((data_spy[i]/data_spy[i-1]) -1 )\n",
    "        tlt_ps.append((data_tlt[i]/data_tlt[i-1]) -1 )\n",
    "        st+=((data_tlt[i]/data_tlt[i-1]) -1 )\n",
    "\n",
    "# Average\n",
    "spy_avg=(ss/len(spy_ps))\n",
    "tlt_avg=(st/len(tlt_ps))\n",
    "\n",
    "# maximum\n",
    "spy_max=max(spy_ps)\n",
    "tlt_max=max(tlt_ps)\n",
    "\n",
    "# minimum\n",
    "spy_min=min(spy_ps)\n",
    "tlt_min=min(tlt_ps)\n",
    "\n",
    "#  I am gon save my results in a dictionary\n",
    "result={\n",
    "    \"SPY_AVERAGE\": spy_avg*100, # I multiply by 100 to convert in percentage\n",
    "    \"TLT_AVERAGE\": tlt_avg*100,\n",
    "    \"SPY_MAX    \": spy_max*100,\n",
    "    \"TLT_MAX    \": tlt_max*100,\n",
    "    \"SPY_MIN    \": spy_min*100,\n",
    "    \"TLT_MIN    \": tlt_min*100\n",
    "}\n",
    "\n",
    "# display the results\n",
    "for i in result:\n",
    "    print(f\"{i} : {result[i]}\")"
   ]
  }
 ],
 "metadata": {
  "kernelspec": {
   "display_name": "Python 3",
   "language": "python",
   "name": "python3"
  },
  "language_info": {
   "codemirror_mode": {
    "name": "ipython",
    "version": 3
   },
   "file_extension": ".py",
   "mimetype": "text/x-python",
   "name": "python",
   "nbconvert_exporter": "python",
   "pygments_lexer": "ipython3",
   "version": "3.8.5"
  }
 },
 "nbformat": 4,
 "nbformat_minor": 4
}
