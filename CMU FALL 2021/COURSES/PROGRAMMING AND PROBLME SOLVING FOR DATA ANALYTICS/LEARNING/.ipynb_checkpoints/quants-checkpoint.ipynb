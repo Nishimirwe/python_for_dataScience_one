{
 "cells": [
  {
   "cell_type": "code",
   "execution_count": 16,
   "metadata": {},
   "outputs": [
    {
     "name": "stdout",
     "output_type": "stream",
     "text": [
      "Enter any value: 22\n",
      "Enter any value: 23\n",
      "Enter any value: 45\n",
      "Enter any value: 23\n",
      "Enter any value: 45\n",
      "Enter any value: -1\n"
     ]
    },
    {
     "data": {
      "text/plain": [
       "[23, 45]"
      ]
     },
     "execution_count": 16,
     "metadata": {},
     "output_type": "execute_result"
    }
   ],
   "source": [
    "# step 1: read all inputs and store them\n",
    "# filter inputs and extract positive odd integers\n",
    "# caluculate sum and average\n",
    "all_values=[]\n",
    "# we need to keep entering data until a user enter -1\n",
    "value=\"\"\n",
    "while value != \"-1\":\n",
    "    value=input(\"Enter any value: \")\n",
    "    all_values.append(value)\n",
    "\n",
    "# extract only positive numbers\n",
    "positive_number=[]\n",
    "for i in all_values:\n",
    "    if i.isnumeric():\n",
    "        positive_number.append(i)\n",
    "\n",
    "# extract only odd numbers\n",
    "odd_numbers=[]\n",
    "for i in positive_number:\n",
    "    if int(i) %2 != 0:\n",
    "        odd_numbers.append(int(i))\n",
    "\n",
    "# removing duplicates\n",
    "no_duplicates=[]\n",
    "for i in odd_numbers:\n",
    "    if i not in no_duplicates:\n",
    "        no_duplicates.append(i)\n",
    "\n",
    "avg=sum(no_duplicates)/len(no_duplicates)\n",
    "max(no_duplicates)\n",
    "min(no_duplicates)"
   ]
  },
  {
   "cell_type": "markdown",
   "metadata": {},
   "source": [
    "## txt = \"\"\n",
    "\n",
    "x = txt.isnumeric()\n",
    "\n",
    "print(x)"
   ]
  },
  {
   "cell_type": "code",
   "execution_count": 26,
   "metadata": {},
   "outputs": [
    {
     "name": "stdout",
     "output_type": "stream",
     "text": [
      "ENter a: 1\n",
      "ENter b: 2\n",
      "ENter c: 3\n",
      "Caluculate root using  ('1', '2', '3')\n"
     ]
    }
   ],
   "source": [
    "# A function that returns\n",
    "\n",
    "def get():\n",
    "    a=input(\"ENter a: \")\n",
    "    b=input(\"ENter b: \")\n",
    "    c=input(\"ENter c: \")\n",
    "    return (a,b,c)\n",
    "\n",
    "def compute(tp):\n",
    "    all_coef=tp\n",
    "    c_a=all_coef[0]\n",
    "    c_b=all_coef[1]\n",
    "    c_c=all_coef[2]\n",
    "\n",
    "    print(\"Caluculate root using \", tp)\n",
    "\n",
    "def main():\n",
    "    compute(get())\n",
    "\n",
    "main()\n"
   ]
  },
  {
   "cell_type": "code",
   "execution_count": null,
   "metadata": {},
   "outputs": [],
   "source": []
  }
 ],
 "metadata": {
  "kernelspec": {
   "display_name": "Python 3",
   "language": "python",
   "name": "python3"
  },
  "language_info": {
   "codemirror_mode": {
    "name": "ipython",
    "version": 3
   },
   "file_extension": ".py",
   "mimetype": "text/x-python",
   "name": "python",
   "nbconvert_exporter": "python",
   "pygments_lexer": "ipython3",
   "version": "3.8.5"
  }
 },
 "nbformat": 4,
 "nbformat_minor": 4
}
