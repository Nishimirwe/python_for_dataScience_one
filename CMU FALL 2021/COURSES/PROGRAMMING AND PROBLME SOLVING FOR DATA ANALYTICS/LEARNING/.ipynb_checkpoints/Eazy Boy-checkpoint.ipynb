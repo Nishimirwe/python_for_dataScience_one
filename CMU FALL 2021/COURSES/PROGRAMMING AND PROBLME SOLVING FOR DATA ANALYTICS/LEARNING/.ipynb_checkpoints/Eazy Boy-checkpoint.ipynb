{
 "cells": [
  {
   "cell_type": "code",
   "execution_count": 12,
   "metadata": {},
   "outputs": [
    {
     "name": "stdout",
     "output_type": "stream",
     "text": [
      "Win ?yes\n",
      "[62, 64]\n"
     ]
    }
   ],
   "source": [
    "def playGame(initial):\n",
    "    bet=1\n",
    "    money=initial\n",
    "    values=[]\n",
    "    win=False\n",
    "    while not win:\n",
    "        data=input(\"Win ?\")\n",
    "        if data == \"yes\":\n",
    "            win=True\n",
    "        money=money-bet\n",
    "        values.append(money)\n",
    "        if not win:\n",
    "            bet=bet*2\n",
    "        if win:\n",
    "            money=money+(bet*2)\n",
    "            values.append(money)\n",
    "            win=True\n",
    "    return values\n",
    "\n",
    "print(playGame(63))\n",
    "\n"
   ]
  },
  {
   "cell_type": "code",
   "execution_count": 26,
   "metadata": {},
   "outputs": [
    {
     "name": "stdout",
     "output_type": "stream",
     "text": [
      "[62, 60, 56, 48, 32, 0, 64]\n"
     ]
    }
   ],
   "source": [
    "def playGame(initial):\n",
    "    bet=1\n",
    "    money=initial\n",
    "    values=[]\n",
    "    win=False\n",
    "    while not win:\n",
    "        data=random.choice('W''L')\n",
    "        if data == \"W\":\n",
    "            win=True\n",
    "        money=money-bet\n",
    "        values.append(money)\n",
    "        if not win:\n",
    "            bet=bet*2\n",
    "        if win:\n",
    "            money=money+(bet*2)\n",
    "            values.append(money)\n",
    "            win=True\n",
    "    return values\n",
    "\n",
    "print(playGame(63))"
   ]
  },
  {
   "cell_type": "code",
   "execution_count": 23,
   "metadata": {},
   "outputs": [
    {
     "name": "stdout",
     "output_type": "stream",
     "text": [
      "W\n"
     ]
    }
   ],
   "source": [
    "import random\n",
    "print(random.choice('W''L'))"
   ]
  },
  {
   "cell_type": "code",
   "execution_count": 4,
   "metadata": {},
   "outputs": [
    {
     "name": "stdout",
     "output_type": "stream",
     "text": [
      "Enter Lines :qw\n",
      "Enter Lines :er\n",
      "Enter Lines :\n",
      "Er\n",
      "Qw\n"
     ]
    }
   ],
   "source": [
    "lines = []\n",
    "while True:\n",
    "    s = input(\"Enter Lines :\")\n",
    "    if s:\n",
    "        lines.append(s)\n",
    "    else:\n",
    "        break\n",
    "# Convert all sentences to title case and store new sentences in title_case list\n",
    "title_case=[line.title() for line in lines]\n",
    "\n",
    "#  Print our sentences in descending sorted order\n",
    "for sentence in sorted(title_case):\n",
    "    print(sentence)"
   ]
  },
  {
   "cell_type": "code",
   "execution_count": null,
   "metadata": {},
   "outputs": [],
   "source": []
  }
 ],
 "metadata": {
  "kernelspec": {
   "display_name": "Python 3",
   "language": "python",
   "name": "python3"
  },
  "language_info": {
   "codemirror_mode": {
    "name": "ipython",
    "version": 3
   },
   "file_extension": ".py",
   "mimetype": "text/x-python",
   "name": "python",
   "nbconvert_exporter": "python",
   "pygments_lexer": "ipython3",
   "version": "3.8.5"
  }
 },
 "nbformat": 4,
 "nbformat_minor": 4
}
