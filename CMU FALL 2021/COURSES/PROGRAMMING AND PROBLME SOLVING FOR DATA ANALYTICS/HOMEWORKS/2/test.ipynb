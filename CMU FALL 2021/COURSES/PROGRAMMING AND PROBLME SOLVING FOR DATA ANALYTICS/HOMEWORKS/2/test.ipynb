{
 "cells": [
  {
   "cell_type": "code",
   "execution_count": 1,
   "metadata": {},
   "outputs": [],
   "source": [
    "from course import Course\n",
    "from gradebook import GradeBook"
   ]
  },
  {
   "cell_type": "code",
   "execution_count": null,
   "metadata": {},
   "outputs": [],
   "source": []
  },
  {
   "cell_type": "code",
   "execution_count": 2,
   "metadata": {},
   "outputs": [],
   "source": [
    "course=Course(\"\", \"\",\"\",\"\")\n",
    "course.addCourseDataFromFile('./files_input/course1.txt')\n",
    "# for student in course.getClasslist():\n",
    "#     print(student)\n",
    "# #     print()"
   ]
  },
  {
   "cell_type": "code",
   "execution_count": 3,
   "metadata": {},
   "outputs": [
    {
     "name": "stdout",
     "output_type": "stream",
     "text": [
      "Enter 5 input files as comma separated values: \n",
      "files_input/course1.txt,files_input/course2.txt,files_input/course3.txt,files_input/course4.txt,files_input/course5.txt\n",
      "Courses saved from 5 files\n"
     ]
    }
   ],
   "source": [
    "grade=GradeBook()\n",
    "grade.readMultipleCourse()\n",
    "# files_input/course1.txt,files_input/course2.txt,files_input/course3.txt,files_input/course4.txt,files_input/course5.txt"
   ]
  },
  {
   "cell_type": "code",
   "execution_count": 4,
   "metadata": {},
   "outputs": [
    {
     "name": "stdout",
     "output_type": "stream",
     "text": [
      "Name:George Williams\n",
      "Roll Num:S1000\n",
      "Marks:            [80, 79, 91, 88, 94]\n",
      "Percentage:86.4                \n",
      "Grade:B\n"
     ]
    }
   ],
   "source": [
    "print(grade.isStudentIn('S1000',grade.getCourses()['04808E']))\n",
    "# print(grade.getCourses()['04808E'])"
   ]
  },
  {
   "cell_type": "code",
   "execution_count": 5,
   "metadata": {},
   "outputs": [
    {
     "name": "stdout",
     "output_type": "stream",
     "text": [
      "Name:Elaine Hazimana\n",
      "Roll Num:S1002\n",
      "Marks:            [85, 86, 0, 99, 89]\n",
      "Percentage:71.8                \n",
      "Grade:C\n"
     ]
    }
   ],
   "source": [
    "print(grade.isStudentValid(\"S1002\"))"
   ]
  },
  {
   "cell_type": "code",
   "execution_count": 6,
   "metadata": {},
   "outputs": [
    {
     "name": "stdout",
     "output_type": "stream",
     "text": [
      "Passed students are saved in passes/passes.txt\n"
     ]
    }
   ],
   "source": [
    "grade.passedStudent()"
   ]
  },
  {
   "cell_type": "code",
   "execution_count": 7,
   "metadata": {},
   "outputs": [
    {
     "name": "stdout",
     "output_type": "stream",
     "text": [
      "Transcripts downloaded and saved in transcripts/S1006_transcript.txt\n"
     ]
    }
   ],
   "source": [
    "grade.printTranscript('S1006')"
   ]
  },
  {
   "cell_type": "code",
   "execution_count": 8,
   "metadata": {},
   "outputs": [
    {
     "name": "stdout",
     "output_type": "stream",
     "text": [
      "Grades are saved in grades/grades.txt\n"
     ]
    }
   ],
   "source": [
    "grade.generateGrades()"
   ]
  },
  {
   "cell_type": "code",
   "execution_count": 9,
   "metadata": {},
   "outputs": [
    {
     "name": "stdout",
     "output_type": "stream",
     "text": [
      "All students' trascripts is stored in general_transcript/transcripts.txt\n"
     ]
    }
   ],
   "source": [
    "grade.generateOverallTranscript()"
   ]
  },
  {
   "cell_type": "code",
   "execution_count": 10,
   "metadata": {},
   "outputs": [
    {
     "name": "stdout",
     "output_type": "stream",
     "text": [
      "courses_grade file is stored in courses_grades/04909E_grades.txt \n"
     ]
    }
   ],
   "source": [
    "grade.generateStudentsInfoInCourse('04909E')"
   ]
  },
  {
   "cell_type": "code",
   "execution_count": 11,
   "metadata": {},
   "outputs": [
    {
     "name": "stdout",
     "output_type": "stream",
     "text": [
      "Referrals students saved in referrals/referrals.txt\n"
     ]
    }
   ],
   "source": [
    "grade.generateReferrals()"
   ]
  },
  {
   "cell_type": "code",
   "execution_count": 12,
   "metadata": {},
   "outputs": [
    {
     "ename": "AttributeError",
     "evalue": "'GradeBook' object has no attribute 'testGradeBook'",
     "output_type": "error",
     "traceback": [
      "\u001b[1;31m---------------------------------------------------------------------------\u001b[0m",
      "\u001b[1;31mAttributeError\u001b[0m                            Traceback (most recent call last)",
      "\u001b[1;32m<ipython-input-12-1dbb4a66bb6b>\u001b[0m in \u001b[0;36m<module>\u001b[1;34m\u001b[0m\n\u001b[0;32m      1\u001b[0m \u001b[1;32mfrom\u001b[0m \u001b[0mgradebook\u001b[0m \u001b[1;32mimport\u001b[0m \u001b[0mGradeBook\u001b[0m\u001b[1;33m\u001b[0m\u001b[1;33m\u001b[0m\u001b[0m\n\u001b[0;32m      2\u001b[0m \u001b[0mg\u001b[0m\u001b[1;33m=\u001b[0m\u001b[0mGradeBook\u001b[0m\u001b[1;33m(\u001b[0m\u001b[1;33m)\u001b[0m\u001b[1;33m\u001b[0m\u001b[1;33m\u001b[0m\u001b[0m\n\u001b[1;32m----> 3\u001b[1;33m \u001b[0mg\u001b[0m\u001b[1;33m.\u001b[0m\u001b[0mtestGradeBook\u001b[0m\u001b[1;33m(\u001b[0m\u001b[1;33m)\u001b[0m\u001b[1;33m\u001b[0m\u001b[1;33m\u001b[0m\u001b[0m\n\u001b[0m",
      "\u001b[1;31mAttributeError\u001b[0m: 'GradeBook' object has no attribute 'testGradeBook'"
     ]
    }
   ],
   "source": [
    "from gradebook import GradeBook\n",
    "g=GradeBook()\n",
    "g.testGradeBook()"
   ]
  },
  {
   "cell_type": "code",
   "execution_count": null,
   "metadata": {},
   "outputs": [],
   "source": []
  }
 ],
 "metadata": {
  "kernelspec": {
   "display_name": "Python 3",
   "language": "python",
   "name": "python3"
  },
  "language_info": {
   "codemirror_mode": {
    "name": "ipython",
    "version": 3
   },
   "file_extension": ".py",
   "mimetype": "text/x-python",
   "name": "python",
   "nbconvert_exporter": "python",
   "pygments_lexer": "ipython3",
   "version": "3.8.5"
  }
 },
 "nbformat": 4,
 "nbformat_minor": 4
}
