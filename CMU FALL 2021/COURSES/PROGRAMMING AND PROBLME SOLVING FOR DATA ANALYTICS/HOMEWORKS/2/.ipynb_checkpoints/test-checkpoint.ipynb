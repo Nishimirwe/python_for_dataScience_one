{
 "cells": [
  {
   "cell_type": "code",
   "execution_count": 1,
   "metadata": {},
   "outputs": [],
   "source": [
    "from course import Course\n",
    "from gradebook import GradeBook"
   ]
  },
  {
   "cell_type": "code",
   "execution_count": null,
   "metadata": {},
   "outputs": [],
   "source": []
  },
  {
   "cell_type": "code",
   "execution_count": 2,
   "metadata": {},
   "outputs": [],
   "source": [
    "course=Course(\"\", \"\",\"\",\"\")\n",
    "course.addCourseDataFromFile('./files_input/course1.txt')\n",
    "# for student in course.getClasslist():\n",
    "#     print(student)\n",
    "# #     print()"
   ]
  },
  {
   "cell_type": "code",
   "execution_count": 12,
   "metadata": {},
   "outputs": [
    {
     "name": "stdout",
     "output_type": "stream",
     "text": [
      "Enter 5 input files as comma separated values: \n",
      "files_input/course1.txt,files_input/course2.txt,files_input/course3.txt,files_input/course4.txt,files_input/course5.txt\n",
      "Courses saved from 5 files\n"
     ]
    }
   ],
   "source": [
    "grade=GradeBook()\n",
    "grade.readMultipleCourse()\n",
    "# files_input/course1.txt,files_input/course2.txt,files_input/course3.txt,files_input/course4.txt,files_input/course5.txt"
   ]
  },
  {
   "cell_type": "code",
   "execution_count": 13,
   "metadata": {},
   "outputs": [
    {
     "name": "stdout",
     "output_type": "stream",
     "text": [
      "Name:George Williams\n",
      "Roll Num:S1000\n",
      "Marks:            [80, 79, 91, 88, 94]\n",
      "Percentage:86.4                \n",
      "Grade:B\n"
     ]
    }
   ],
   "source": [
    "print(grade.isStudentIn('S1000',grade.getCourses()['04808E']))\n",
    "# print(grade.getCourses()['04808E'])"
   ]
  },
  {
   "cell_type": "code",
   "execution_count": 14,
   "metadata": {},
   "outputs": [
    {
     "name": "stdout",
     "output_type": "stream",
     "text": [
      "Name:Elaine Hazimana\n",
      "Roll Num:S1002\n",
      "Marks:            [85, 86, 0, 99, 89]\n",
      "Percentage:71.8                \n",
      "Grade:C\n"
     ]
    }
   ],
   "source": [
    "print(grade.isStudentValid(\"S1002\"))"
   ]
  },
  {
   "cell_type": "code",
   "execution_count": 15,
   "metadata": {},
   "outputs": [
    {
     "name": "stdout",
     "output_type": "stream",
     "text": [
      "Passed students are saved in passes/passes.txt\n"
     ]
    }
   ],
   "source": [
    "grade.passedStudent()"
   ]
  },
  {
   "cell_type": "code",
   "execution_count": 16,
   "metadata": {},
   "outputs": [
    {
     "name": "stdout",
     "output_type": "stream",
     "text": [
      "Transcripts downloaded and saved in transcripts/S1006_transcript.txt\n"
     ]
    }
   ],
   "source": [
    "grade.printTranscript('S1006')"
   ]
  },
  {
   "cell_type": "code",
   "execution_count": 17,
   "metadata": {},
   "outputs": [
    {
     "name": "stdout",
     "output_type": "stream",
     "text": [
      "Grades are saved in grades/grades.txt\n"
     ]
    }
   ],
   "source": [
    "grade.generateGrades()"
   ]
  },
  {
   "cell_type": "code",
   "execution_count": 18,
   "metadata": {},
   "outputs": [
    {
     "name": "stdout",
     "output_type": "stream",
     "text": [
      "All students' trascripts is stored in general_transcript/transcripts.txt\n"
     ]
    }
   ],
   "source": [
    "grade.generateOverallTranscript()"
   ]
  },
  {
   "cell_type": "code",
   "execution_count": 19,
   "metadata": {},
   "outputs": [
    {
     "ename": "AttributeError",
     "evalue": "'GradeBook' object has no attribute 'course'",
     "output_type": "error",
     "traceback": [
      "\u001b[1;31m---------------------------------------------------------------------------\u001b[0m",
      "\u001b[1;31mAttributeError\u001b[0m                            Traceback (most recent call last)",
      "\u001b[1;32m<ipython-input-19-df8128f3e8da>\u001b[0m in \u001b[0;36m<module>\u001b[1;34m\u001b[0m\n\u001b[1;32m----> 1\u001b[1;33m \u001b[0mgrade\u001b[0m\u001b[1;33m.\u001b[0m\u001b[0mgenerateStudentsInfoInCourse\u001b[0m\u001b[1;33m(\u001b[0m\u001b[1;34m'04909E'\u001b[0m\u001b[1;33m)\u001b[0m\u001b[1;33m\u001b[0m\u001b[1;33m\u001b[0m\u001b[0m\n\u001b[0m",
      "\u001b[1;32mD:\\LESSONS\\CODING\\PYTHON\\PYTHON_FOR_DATA_SCIENCE_ONE\\CMU FALL 2021\\COURSES\\PROGRAMMING AND PROBLME SOLVING FOR DATA ANALYTICS\\HOMEWORKS\\2\\gradebook.py\u001b[0m in \u001b[0;36mgenerateStudentsInfoInCourse\u001b[1;34m(self, courseId)\u001b[0m\n\u001b[0;32m    209\u001b[0m             \u001b[0mprint\u001b[0m\u001b[1;33m(\u001b[0m\u001b[1;34m\"No courses available\"\u001b[0m\u001b[1;33m)\u001b[0m\u001b[1;33m\u001b[0m\u001b[1;33m\u001b[0m\u001b[0m\n\u001b[0;32m    210\u001b[0m             \u001b[1;32mreturn\u001b[0m \u001b[1;33m-\u001b[0m\u001b[1;36m1\u001b[0m\u001b[1;33m\u001b[0m\u001b[1;33m\u001b[0m\u001b[0m\n\u001b[1;32m--> 211\u001b[1;33m         \u001b[1;32mif\u001b[0m \u001b[1;32mnot\u001b[0m \u001b[0mself\u001b[0m\u001b[1;33m.\u001b[0m\u001b[0mcourse\u001b[0m\u001b[1;33m(\u001b[0m\u001b[0mcourseId\u001b[0m\u001b[1;33m)\u001b[0m\u001b[1;33m:\u001b[0m\u001b[1;33m\u001b[0m\u001b[1;33m\u001b[0m\u001b[0m\n\u001b[0m\u001b[0;32m    212\u001b[0m             \u001b[0mprint\u001b[0m\u001b[1;33m(\u001b[0m\u001b[1;34m\"This is invalid course ID.\"\u001b[0m\u001b[1;33m)\u001b[0m\u001b[1;33m\u001b[0m\u001b[1;33m\u001b[0m\u001b[0m\n\u001b[0;32m    213\u001b[0m             \u001b[1;32mreturn\u001b[0m \u001b[1;33m-\u001b[0m\u001b[1;36m1\u001b[0m\u001b[1;33m\u001b[0m\u001b[1;33m\u001b[0m\u001b[0m\n",
      "\u001b[1;31mAttributeError\u001b[0m: 'GradeBook' object has no attribute 'course'"
     ]
    }
   ],
   "source": [
    "grade.generateStudentsInfoInCourse('04909E')"
   ]
  },
  {
   "cell_type": "code",
   "execution_count": 20,
   "metadata": {},
   "outputs": [
    {
     "name": "stdout",
     "output_type": "stream",
     "text": [
      "Name:George Williams\n",
      "Roll Num:S1000\n",
      "Marks:            [80, 79, 91, 88, 94]\n",
      "Percentage:86.4                \n",
      "Grade:B\n",
      "Name:Elaine Hazimana\n",
      "Roll Num:S1002\n",
      "Marks:            [85, 86, 0, 99, 89]\n",
      "Percentage:71.8                \n",
      "Grade:C\n",
      "Name:Peter Pathos\n",
      "Roll Num:S1003\n",
      "Marks:            [70, 90, 70, 95, 91]\n",
      "Percentage:83.2                \n",
      "Grade:B\n",
      "Name:Celestine Taylor\n",
      "Roll Num:S1005\n",
      "Marks:            [60, 95, 88, 99, 100]\n",
      "Percentage:88.4                \n",
      "Grade:B\n",
      "Name:Khalil Abdi\n",
      "Roll Num:S1006\n",
      "Marks:            [80, 82, 75, 92, 86]\n",
      "Percentage:83.0                \n",
      "Grade:B\n"
     ]
    }
   ],
   "source": [
    "grade.generateReferrals()"
   ]
  },
  {
   "cell_type": "code",
   "execution_count": null,
   "metadata": {},
   "outputs": [],
   "source": []
  }
 ],
 "metadata": {
  "kernelspec": {
   "display_name": "Python 3",
   "language": "python",
   "name": "python3"
  },
  "language_info": {
   "codemirror_mode": {
    "name": "ipython",
    "version": 3
   },
   "file_extension": ".py",
   "mimetype": "text/x-python",
   "name": "python",
   "nbconvert_exporter": "python",
   "pygments_lexer": "ipython3",
   "version": "3.8.5"
  }
 },
 "nbformat": 4,
 "nbformat_minor": 4
}
