{
 "cells": [
  {
   "cell_type": "code",
   "execution_count": 13,
   "metadata": {},
   "outputs": [
    {
     "name": "stdout",
     "output_type": "stream",
     "text": [
      "Hello, \n",
      "Michael!\n"
     ]
    }
   ],
   "source": [
    "name='Michael'\n",
    "print(f\"Hello, \\\n",
    "\\n{name}!\")"
   ]
  },
  {
   "cell_type": "code",
   "execution_count": 12,
   "metadata": {},
   "outputs": [
    {
     "name": "stdout",
     "output_type": "stream",
     "text": [
      "Jean Paul\n",
      "Nishimirwe\n",
      "I am here man\n",
      "Hi there\n"
     ]
    }
   ],
   "source": [
    "print(\"Jean Paul\\\n",
    "\\nNishimirwe\\\n",
    "\\nI am here man\\\n",
    "\\nHi there\")"
   ]
  },
  {
   "cell_type": "code",
   "execution_count": 19,
   "metadata": {},
   "outputs": [
    {
     "name": "stdout",
     "output_type": "stream",
     "text": [
      "Hi\n",
      "There\n"
     ]
    }
   ],
   "source": [
    "verse=\"\"\"Hi\n",
    "There\"\"\"\n",
    "print(verse)"
   ]
  },
  {
   "cell_type": "code",
   "execution_count": 30,
   "metadata": {},
   "outputs": [
    {
     "data": {
      "text/plain": [
       "2"
      ]
     },
     "execution_count": 30,
     "metadata": {},
     "output_type": "execute_result"
    }
   ],
   "source": [
    "4//2"
   ]
  },
  {
   "cell_type": "code",
   "execution_count": 45,
   "metadata": {},
   "outputs": [
    {
     "name": "stdout",
     "output_type": "stream",
     "text": [
      "Enter name: JP\n",
      "Enter Ages of you next birth day: 34\n",
      "Enter course: Data Analytics\n",
      "Enter your Nationality: Rwandan\n",
      "******************* \n",
      "Name: JP \n",
      "Age Next Birthday: 34 \n",
      "Course: Data Analytics \n",
      "Nationality: Rwandan \n",
      "*******************\n"
     ]
    }
   ],
   "source": [
    "name=input(\"Enter name: \")\n",
    "age=int(input(\"Enter Ages of you next birth day: \"))\n",
    "course=input(\"Enter course: \")\n",
    "nationality=input(\"Enter your Nationality: \")\n",
    "\n",
    "print(\"*\"*19, \"\\nName:\", name,\"\\nAge Next Birthday:\",age,\"\\nCourse:\",course,\"\\nNationality:\",nationality,\"\\n\"+\"*\"*19)\n"
   ]
  },
  {
   "cell_type": "markdown",
   "metadata": {},
   "source": [
    "# Seven"
   ]
  },
  {
   "cell_type": "code",
   "execution_count": 51,
   "metadata": {},
   "outputs": [
    {
     "name": "stdout",
     "output_type": "stream",
     "text": [
      "Enter an integer: 0\n",
      "Number is even\n"
     ]
    }
   ],
   "source": [
    "# Taking Input\n",
    "number=int(input(\"Enter an integer: \"))\n",
    "# Control if it is even or not\n",
    "if number %2 == 0:\n",
    "    print(\"Number is even\")\n",
    "else:\n",
    "    print(\"Number is odd\")"
   ]
  },
  {
   "cell_type": "markdown",
   "metadata": {},
   "source": [
    "# Eight"
   ]
  },
  {
   "cell_type": "code",
   "execution_count": 59,
   "metadata": {},
   "outputs": [
    {
     "name": "stdout",
     "output_type": "stream",
     "text": [
      "Enter marks: -9\n",
      "Not in a range 0-100\n"
     ]
    }
   ],
   "source": [
    "# Taking input\n",
    "mark=float(input(\"Enter marks: \"))\n",
    "# check if mark is in the range 0-100\n",
    "if mark<0 or mark>100:\n",
    "    print(\"Not in a range 0-100\")\n",
    "else:\n",
    "    if mark>=92:\n",
    "        print(\"A\")\n",
    "    elif mark>=82:\n",
    "        print(\"B\")\n",
    "    elif mark>=70:\n",
    "        print(\"C\")\n",
    "    else:\n",
    "        print(\"Fail\")"
   ]
  },
  {
   "cell_type": "code",
   "execution_count": null,
   "metadata": {},
   "outputs": [
    {
     "name": "stdout",
     "output_type": "stream",
     "text": [
      "Enter number of students: 2\n",
      "Enter marks-2\n",
      "Not Valid, Please enter a valid mark [0-100]\n",
      "Enter marks900\n",
      "Not Valid, Please enter a valid mark [0-100]\n"
     ]
    }
   ],
   "source": [
    "students=int(input(\"Enter number of students: \"))\n",
    "marks=[]\n",
    "for i in range(students):\n",
    "    repeat=True\n",
    "    while repeat:\n",
    "        m=float(input(\"Enter marks\"))\n",
    "        #  validate\n",
    "        if m>=0 and m<=100:\n",
    "            marks.append(m)\n",
    "            print(\"Valid and saved\")\n",
    "            repeat=False\n",
    "        else:\n",
    "            print(\"Not Valid, Please enter a valid mark [0-100]\")\n",
    "            repeat=True"
   ]
  },
  {
   "cell_type": "markdown",
   "metadata": {},
   "source": [
    "# On 13 September 2021"
   ]
  },
  {
   "cell_type": "code",
   "execution_count": 14,
   "metadata": {},
   "outputs": [
    {
     "data": {
      "text/plain": [
       "\"Return the sum of a 'start' value (default: 0) plus an iterable of numbers\\n\\nWhen the iterable is empty, return the start value.\\nThis function is intended specifically for use with numeric values and may\\nreject non-numeric types.\""
      ]
     },
     "execution_count": 14,
     "metadata": {},
     "output_type": "execute_result"
    }
   ],
   "source": [
    "sum.__doc__"
   ]
  },
  {
   "cell_type": "code",
   "execution_count": 15,
   "metadata": {},
   "outputs": [
    {
     "data": {
      "text/plain": [
       "builtin_function_or_method"
      ]
     },
     "execution_count": 15,
     "metadata": {},
     "output_type": "execute_result"
    }
   ],
   "source": [
    "type(sum)"
   ]
  },
  {
   "cell_type": "code",
   "execution_count": 18,
   "metadata": {},
   "outputs": [
    {
     "name": "stdout",
     "output_type": "stream",
     "text": [
      "Return the sum of a 'start' value (default: 0) plus an iterable of numbers\n",
      "\n",
      "When the iterable is empty, return the start value.\n",
      "This function is intended specifically for use with numeric values and may\n",
      "reject non-numeric types.\n"
     ]
    }
   ],
   "source": [
    "print(sum.__doc__)"
   ]
  },
  {
   "cell_type": "code",
   "execution_count": 21,
   "metadata": {},
   "outputs": [
    {
     "name": "stdout",
     "output_type": "stream",
     "text": [
      "Hi Wordl\n"
     ]
    }
   ],
   "source": [
    "a=\"Hi\" \" \" \"Wordl\"\n",
    "print(a)"
   ]
  },
  {
   "cell_type": "code",
   "execution_count": 27,
   "metadata": {},
   "outputs": [
    {
     "name": "stdout",
     "output_type": "stream",
     "text": [
      "11 [4, 6, 10, 2]\n"
     ]
    }
   ],
   "source": [
    "li=[2,3,5,1]\n",
    "sum=lambda x,y: x+y\n",
    "\n",
    "two=[sum(x,x) for x in li]\n",
    "print(sum(9,2), two)"
   ]
  },
  {
   "cell_type": "code",
   "execution_count": 28,
   "metadata": {},
   "outputs": [
    {
     "name": "stdout",
     "output_type": "stream",
     "text": [
      "hello Paul\n"
     ]
    }
   ],
   "source": [
    "greet= lambda name: print(f\"hello {name}\")\n",
    "greet(\"Paul\")"
   ]
  },
  {
   "cell_type": "code",
   "execution_count": null,
   "metadata": {},
   "outputs": [],
   "source": [
    "def hhh(*args):\n",
    "    for i in args:\n",
    "        print(i,\"Hh\")\n",
    "        \n",
    "hhh([True,False])"
   ]
  },
  {
   "cell_type": "code",
   "execution_count": null,
   "metadata": {},
   "outputs": [],
   "source": []
  },
  {
   "cell_type": "markdown",
   "metadata": {},
   "source": [
    "# Strings"
   ]
  },
  {
   "cell_type": "code",
   "execution_count": 15,
   "metadata": {},
   "outputs": [
    {
     "name": "stdout",
     "output_type": "stream",
     "text": [
      "Imana ni nziza peu\n",
      "enamI\n"
     ]
    }
   ],
   "source": [
    "def rev(str):\n",
    "    res=\"\"\n",
    "    if len(str)==0:\n",
    "        return res\n",
    "    res=str[-1]+ rev(str[:-1]) \n",
    "    return res\n",
    "str=\"Imana ni nziza peuh\"\n",
    "print(str[:-1])\n",
    "print(rev(\"Imane\"))"
   ]
  },
  {
   "cell_type": "code",
   "execution_count": 18,
   "metadata": {},
   "outputs": [
    {
     "data": {
      "text/plain": [
       "'m'"
      ]
     },
     "execution_count": 18,
     "metadata": {},
     "output_type": "execute_result"
    }
   ],
   "source": [
    "str[1]"
   ]
  },
  {
   "cell_type": "markdown",
   "metadata": {},
   "source": [
    "# List"
   ]
  },
  {
   "cell_type": "code",
   "execution_count": 29,
   "metadata": {},
   "outputs": [
    {
     "data": {
      "text/plain": [
       "[7, 6, 2, 1]"
      ]
     },
     "execution_count": 29,
     "metadata": {},
     "output_type": "execute_result"
    }
   ],
   "source": [
    "li=[6,1,7,2]\n",
    "li.sort(reverse=True)\n",
    "sorted(li, reverse=True)"
   ]
  },
  {
   "cell_type": "markdown",
   "metadata": {},
   "source": [
    "# Tuple"
   ]
  },
  {
   "cell_type": "code",
   "execution_count": 32,
   "metadata": {},
   "outputs": [
    {
     "data": {
      "text/plain": [
       "[6, 2, 1]"
      ]
     },
     "execution_count": 32,
     "metadata": {},
     "output_type": "execute_result"
    }
   ],
   "source": [
    "a,*b=tuple(li)\n",
    "a\n",
    "b"
   ]
  },
  {
   "cell_type": "markdown",
   "metadata": {},
   "source": [
    "# Dictionary"
   ]
  },
  {
   "cell_type": "code",
   "execution_count": 41,
   "metadata": {},
   "outputs": [
    {
     "name": "stdout",
     "output_type": "stream",
     "text": [
      "001\n",
      "Name Jean Paul Nishimirwe\n",
      "Ages 25\n",
      "College CMU\n",
      "\n",
      "002\n",
      "Name Viateur Gombaniro\n",
      "Ages 45\n",
      "College Finished\n",
      "\n"
     ]
    }
   ],
   "source": [
    "d={\"001\" : {\"Name\" : \"Jean Paul Nishimirwe\",\n",
    "              \"Ages\" : 25, \"College\": \"CMU\"},\n",
    "     \"002\": {\"Name\" : \"Viateur Gombaniro\",\n",
    "            \"Ages\" : 45, \"College\" : \"Finished\"}}\n",
    "\n",
    "for key in d.keys():\n",
    "    print(key)\n",
    "    for k in d.get(key).keys():\n",
    "        print(k,d.get(key).get(k))\n",
    "    print()"
   ]
  },
  {
   "cell_type": "markdown",
   "metadata": {},
   "source": [
    "# Exercises"
   ]
  },
  {
   "cell_type": "code",
   "execution_count": 50,
   "metadata": {},
   "outputs": [
    {
     "name": "stdout",
     "output_type": "stream",
     "text": [
      "Enter a number: 8\n",
      "2.0\n"
     ]
    }
   ],
   "source": [
    "import math\n",
    "number=float(input(\"Enter a number: \"))\n",
    "number=abs(number)\n",
    "sr=math.sqrt(number)\n",
    "p2=math.pow(number,2)\n",
    "p3=math.pow(number,1/3)\n",
    "print(p3)"
   ]
  },
  {
   "cell_type": "code",
   "execution_count": 51,
   "metadata": {},
   "outputs": [
    {
     "name": "stdout",
     "output_type": "stream",
     "text": [
      "I am 64.0     \n",
      "but here I am not safe 2.8284271247461903\n"
     ]
    }
   ],
   "source": [
    "print(f\"I am {p2} \\\n",
    "    \\nbut here I am not safe {sr}\")"
   ]
  },
  {
   "cell_type": "code",
   "execution_count": 62,
   "metadata": {},
   "outputs": [
    {
     "name": "stdout",
     "output_type": "stream",
     "text": [
      "[3, 4, 5, 6]\n"
     ]
    }
   ],
   "source": [
    "l=['3','4','5','6']\n",
    "print([int(i) for i in l])"
   ]
  },
  {
   "cell_type": "code",
   "execution_count": 67,
   "metadata": {},
   "outputs": [
    {
     "name": "stdout",
     "output_type": "stream",
     "text": [
      "True\n"
     ]
    }
   ],
   "source": [
    "a='   7      '\n",
    "print(a.strip().isdecimal())"
   ]
  },
  {
   "cell_type": "code",
   "execution_count": null,
   "metadata": {},
   "outputs": [],
   "source": []
  },
  {
   "cell_type": "code",
   "execution_count": 101,
   "metadata": {},
   "outputs": [
    {
     "name": "stdout",
     "output_type": "stream",
     "text": [
      "sum  <class 'builtin_function_or_method'>\n",
      "\n",
      "Return the sum of a 'start' value (default: 0) plus an iterable of numbers\n",
      "\n",
      "When the iterable is empty, return the start value.\n",
      "This function is intended specifically for use with numeric values and may\n",
      "reject non-numeric types.\n"
     ]
    }
   ],
   "source": [
    "import builtins\n",
    "all_built_in=dir(builtins)\n",
    "for fun in all_built_in:\n",
    "    if fun=='sum' :\n",
    "        print(f\"{fun} \",type(eval(fun)))\n",
    "        print()\n",
    "        print(eval(fun).__doc__)"
   ]
  },
  {
   "cell_type": "code",
   "execution_count": null,
   "metadata": {},
   "outputs": [],
   "source": []
  }
 ],
 "metadata": {
  "kernelspec": {
   "display_name": "Python 3",
   "language": "python",
   "name": "python3"
  },
  "language_info": {
   "codemirror_mode": {
    "name": "ipython",
    "version": 3
   },
   "file_extension": ".py",
   "mimetype": "text/x-python",
   "name": "python",
   "nbconvert_exporter": "python",
   "pygments_lexer": "ipython3",
   "version": "3.8.5"
  }
 },
 "nbformat": 4,
 "nbformat_minor": 4
}
