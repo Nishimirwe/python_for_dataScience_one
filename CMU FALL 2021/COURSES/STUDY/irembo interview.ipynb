{
 "cells": [
  {
   "cell_type": "code",
   "execution_count": 41,
   "metadata": {},
   "outputs": [
    {
     "name": "stdout",
     "output_type": "stream",
     "text": [
      "False\n"
     ]
    }
   ],
   "source": [
    "def validateBrackets(str):\n",
    "    \"\"\"\n",
    "    Step one: Have all allowable opening and their close in a directionary.\n",
    "    \n",
    "    Given a string containing opening and closing bracket, return true if brackets (open and close) are balanced\n",
    "    \n",
    "    \"\"\"\n",
    "    all_symbols=dict()\n",
    "    all_symbols[')']='('\n",
    "    all_symbols[']']='['\n",
    "    all_symbols['}']='{'\n",
    "    \n",
    "    stack=[]\n",
    "    list_of_symbols=all_symbols.values()\n",
    "    list_of_closings=[i for i in all_symbols.keys()]\n",
    "    for i in str:\n",
    "        if i in list_of_symbols:\n",
    "            stack.append(i)\n",
    "        if i in list_of_closings:\n",
    "            if len(stack) == 0:\n",
    "                return False\n",
    "            if all_symbols.get(i) != stack[len(stack)-1]:\n",
    "                return False\n",
    "            else:\n",
    "                stack.pop()\n",
    "    if len(stack) != 0:\n",
    "        return False\n",
    "    return True\n",
    " \n",
    "formula=\"([l+w)*2]\"\n",
    "print(validateBrackets(formula))\n"
   ]
  },
  {
   "cell_type": "code",
   "execution_count": 22,
   "metadata": {},
   "outputs": [
    {
     "name": "stdout",
     "output_type": "stream",
     "text": [
      "34\n"
     ]
    }
   ],
   "source": [
    "def fibonacci(n):\n",
    "    if n<=1:\n",
    "        return 1\n",
    "    return fibonacci(n-1)+fibonacci(n-2)\n",
    "\n",
    "print(fibonacci(8))"
   ]
  },
  {
   "cell_type": "code",
   "execution_count": null,
   "metadata": {},
   "outputs": [],
   "source": [
    "      \n"
   ]
  },
  {
   "cell_type": "code",
   "execution_count": 5,
   "metadata": {},
   "outputs": [
    {
     "name": "stdout",
     "output_type": "stream",
     "text": [
      "1\n"
     ]
    },
    {
     "data": {
      "text/plain": [
       "[1, 5, 9]"
      ]
     },
     "execution_count": 5,
     "metadata": {},
     "output_type": "execute_result"
    }
   ],
   "source": [
    "def search(arr,target):\n",
    "    \n",
    "    size=len(arr)-1\n",
    "    start=0\n",
    "    end=size\n",
    "    \n",
    "    while start <= end:\n",
    "        size=start+end\n",
    "        middle=size//2\n",
    "        \n",
    "        if target == arr[middle]:\n",
    "            return middle\n",
    "        \n",
    "        elif target < arr[middle]:\n",
    "            end=middle-1\n",
    "\n",
    "        elif target > arr[middle]:\n",
    "            start=middle+1\n",
    "        \n",
    "    \n",
    "    return start\n",
    "          \n",
    "student=[i for i in range(1,10,4)]\n",
    "print(search(student, 5))\n",
    "student\n",
    "         "
   ]
  },
  {
   "cell_type": "code",
   "execution_count": null,
   "metadata": {},
   "outputs": [],
   "source": []
  }
 ],
 "metadata": {
  "kernelspec": {
   "display_name": "Python 3",
   "language": "python",
   "name": "python3"
  },
  "language_info": {
   "codemirror_mode": {
    "name": "ipython",
    "version": 3
   },
   "file_extension": ".py",
   "mimetype": "text/x-python",
   "name": "python",
   "nbconvert_exporter": "python",
   "pygments_lexer": "ipython3",
   "version": "3.8.5"
  }
 },
 "nbformat": 4,
 "nbformat_minor": 4
}
