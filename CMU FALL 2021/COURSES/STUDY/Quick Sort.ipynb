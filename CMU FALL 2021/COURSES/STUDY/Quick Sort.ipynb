{
 "cells": [
  {
   "cell_type": "code",
   "execution_count": 43,
   "metadata": {},
   "outputs": [
    {
     "name": "stdout",
     "output_type": "stream",
     "text": [
      "[1]\n"
     ]
    }
   ],
   "source": [
    "# Quick sort\n",
    "\n",
    "def partition(arr, start, end):\n",
    "    assert len(arr)>0, 'Empty array'\n",
    "    pivot=arr[start]\n",
    "    i=start\n",
    "    j=end\n",
    "    k=start\n",
    "    while(i<=j):\n",
    "        print(i,j)\n",
    "        while(arr[i] <= pivot):\n",
    "            i+=1\n",
    "        #print(f\"{arr[i]} is greater\")\n",
    "\n",
    "        while(arr[j]>pivot):\n",
    "            j-=1\n",
    "        #print(f\"{arr[j]} is less\")\n",
    "        \n",
    "        if i<j:\n",
    "            t=arr[i]\n",
    "            arr[i]=arr[j]\n",
    "            arr[j]=t\n",
    "    \n",
    "    if k<j:\n",
    "        t=arr[k]\n",
    "        arr[k]=arr[j]\n",
    "        arr[j]=t\n",
    "    return j\n",
    "\n",
    "def quicksort(arr,start,end):\n",
    "    if start==end:\n",
    "        return arr\n",
    "    if(start < end):\n",
    "        mid=partition(arr,start,end)\n",
    "        quicksort(arr,start, mid-1)\n",
    "        quicksort(arr, mid+1,end)\n",
    "        return arr\n",
    "    \n",
    "        \n",
    "\n",
    "arr=[34, 67, 23, 90, 11, 89, 1, 3, 0, -4]\n",
    "arr=[1]\n",
    "# print(partition(arr, 0, len(arr)-1))\n",
    "print(quicksort(arr, 0, len(arr)-1))"
   ]
  },
  {
   "cell_type": "code",
   "execution_count": null,
   "metadata": {},
   "outputs": [],
   "source": []
  }
 ],
 "metadata": {
  "kernelspec": {
   "display_name": "Python 3",
   "language": "python",
   "name": "python3"
  },
  "language_info": {
   "codemirror_mode": {
    "name": "ipython",
    "version": 3
   },
   "file_extension": ".py",
   "mimetype": "text/x-python",
   "name": "python",
   "nbconvert_exporter": "python",
   "pygments_lexer": "ipython3",
   "version": "3.8.5"
  }
 },
 "nbformat": 4,
 "nbformat_minor": 4
}
